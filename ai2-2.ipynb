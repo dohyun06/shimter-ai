{
 "cells": [
  {
   "cell_type": "code",
   "execution_count": 1,
   "metadata": {},
   "outputs": [],
   "source": [
    "import tensorflow as tf\n",
    "import matplotlib.pyplot as plt\n",
    "import numpy as np\n",
    "import os"
   ]
  },
  {
   "cell_type": "code",
   "execution_count": 2,
   "metadata": {},
   "outputs": [],
   "source": [
    "data_dir = './dataset/step2-1'\n",
    "IMG_SIZE = 224 \n",
    "BATCH_SIZE = 32\n",
    "EPOCHS = 15  \n"
   ]
  },
  {
   "cell_type": "code",
   "execution_count": 3,
   "metadata": {},
   "outputs": [
    {
     "name": "stdout",
     "output_type": "stream",
     "text": [
      "Found 234 files belonging to 3 classes.\n",
      "Using 188 files for training.\n"
     ]
    }
   ],
   "source": [
    "train_dataset = tf.keras.utils.image_dataset_from_directory(\n",
    "    data_dir, \n",
    "    validation_split=0.2, \n",
    "    subset=\"training\", \n",
    "    seed=123, \n",
    "    image_size=(IMG_SIZE, IMG_SIZE),\n",
    "    batch_size=BATCH_SIZE\n",
    ")  "
   ]
  },
  {
   "cell_type": "code",
   "execution_count": 4,
   "metadata": {},
   "outputs": [
    {
     "name": "stdout",
     "output_type": "stream",
     "text": [
      "Found 234 files belonging to 3 classes.\n",
      "Using 46 files for validation.\n"
     ]
    }
   ],
   "source": [
    "validation_dataset = tf.keras.utils.image_dataset_from_directory(\n",
    "    data_dir,\n",
    "    validation_split=0.2,\n",
    "    subset=\"validation\",\n",
    "    seed=123,\n",
    "    image_size=(IMG_SIZE, IMG_SIZE),\n",
    "    batch_size=BATCH_SIZE\n",
    ")"
   ]
  },
  {
   "cell_type": "code",
   "execution_count": 5,
   "metadata": {},
   "outputs": [
    {
     "name": "stdout",
     "output_type": "stream",
     "text": [
      "Names of class: ['disease', 'temp-humid', 'unripe']\n"
     ]
    }
   ],
   "source": [
    "class_names = train_dataset.class_names\n",
    "print(\"Names of class:\", class_names)\n",
    "num_classes = len(class_names)"
   ]
  },
  {
   "cell_type": "code",
   "execution_count": 6,
   "metadata": {},
   "outputs": [],
   "source": [
    "AUTOTUNE = tf.data.AUTOTUNE\n",
    "train_dataset = train_dataset.cache().shuffle(1000).prefetch(buffer_size=AUTOTUNE)\n",
    "validation_dataset = validation_dataset.cache().prefetch(buffer_size=AUTOTUNE)"
   ]
  },
  {
   "cell_type": "code",
   "execution_count": 7,
   "metadata": {},
   "outputs": [],
   "source": [
    "data_augmentation = tf.keras.Sequential([\n",
    "    tf.keras.layers.RandomFlip('horizontal'),\n",
    "    tf.keras.layers.RandomRotation(0.2),\n",
    "])"
   ]
  },
  {
   "cell_type": "code",
   "execution_count": 8,
   "metadata": {},
   "outputs": [],
   "source": [
    "base_model = tf.keras.applications.MobileNetV2(\n",
    "    input_shape=(IMG_SIZE, IMG_SIZE, 3),\n",
    "    include_top=False,\n",
    "    weights='imagenet'\n",
    ")"
   ]
  },
  {
   "cell_type": "code",
   "execution_count": 9,
   "metadata": {},
   "outputs": [],
   "source": [
    "base_model.trainable = False\n"
   ]
  },
  {
   "cell_type": "code",
   "execution_count": 10,
   "metadata": {},
   "outputs": [],
   "source": [
    "inputs = tf.keras.Input(shape=(IMG_SIZE, IMG_SIZE, 3))\n",
    "x = data_augmentation(inputs)\n",
    "x = base_model(x, training=False)  # 베이스 모델은 추론 모드로 동작 (가중치 동결)\n",
    "x = tf.keras.layers.GlobalAveragePooling2D()(x)\n",
    "x = tf.keras.layers.Dropout(0.2)(x)\n",
    "\n",
    "outputs = tf.keras.layers.Dense(num_classes, activation='softmax')(x)"
   ]
  },
  {
   "cell_type": "code",
   "execution_count": 11,
   "metadata": {},
   "outputs": [],
   "source": [
    "model = tf.keras.Model(inputs, outputs)"
   ]
  },
  {
   "cell_type": "code",
   "execution_count": 12,
   "metadata": {},
   "outputs": [],
   "source": [
    "model.compile(\n",
    "    optimizer=tf.keras.optimizers.Adam(1e-4),\n",
    "    loss=tf.keras.losses.SparseCategoricalCrossentropy(),\n",
    "    metrics=['accuracy']\n",
    ")"
   ]
  },
  {
   "cell_type": "code",
   "execution_count": 13,
   "metadata": {},
   "outputs": [
    {
     "name": "stdout",
     "output_type": "stream",
     "text": [
      "model:\n"
     ]
    },
    {
     "data": {
      "text/html": [
       "<pre style=\"white-space:pre;overflow-x:auto;line-height:normal;font-family:Menlo,'DejaVu Sans Mono',consolas,'Courier New',monospace\"><span style=\"font-weight: bold\">Model: \"functional_1\"</span>\n",
       "</pre>\n"
      ],
      "text/plain": [
       "\u001b[1mModel: \"functional_1\"\u001b[0m\n"
      ]
     },
     "metadata": {},
     "output_type": "display_data"
    },
    {
     "data": {
      "text/html": [
       "<pre style=\"white-space:pre;overflow-x:auto;line-height:normal;font-family:Menlo,'DejaVu Sans Mono',consolas,'Courier New',monospace\">┏━━━━━━━━━━━━━━━━━━━━━━━━━━━━━━━━━┳━━━━━━━━━━━━━━━━━━━━━━━━┳━━━━━━━━━━━━━━━┓\n",
       "┃<span style=\"font-weight: bold\"> Layer (type)                    </span>┃<span style=\"font-weight: bold\"> Output Shape           </span>┃<span style=\"font-weight: bold\">       Param # </span>┃\n",
       "┡━━━━━━━━━━━━━━━━━━━━━━━━━━━━━━━━━╇━━━━━━━━━━━━━━━━━━━━━━━━╇━━━━━━━━━━━━━━━┩\n",
       "│ input_layer_1 (<span style=\"color: #0087ff; text-decoration-color: #0087ff\">InputLayer</span>)      │ (<span style=\"color: #00d7ff; text-decoration-color: #00d7ff\">None</span>, <span style=\"color: #00af00; text-decoration-color: #00af00\">224</span>, <span style=\"color: #00af00; text-decoration-color: #00af00\">224</span>, <span style=\"color: #00af00; text-decoration-color: #00af00\">3</span>)    │             <span style=\"color: #00af00; text-decoration-color: #00af00\">0</span> │\n",
       "├─────────────────────────────────┼────────────────────────┼───────────────┤\n",
       "│ sequential (<span style=\"color: #0087ff; text-decoration-color: #0087ff\">Sequential</span>)         │ (<span style=\"color: #00d7ff; text-decoration-color: #00d7ff\">None</span>, <span style=\"color: #00af00; text-decoration-color: #00af00\">224</span>, <span style=\"color: #00af00; text-decoration-color: #00af00\">224</span>, <span style=\"color: #00af00; text-decoration-color: #00af00\">3</span>)    │             <span style=\"color: #00af00; text-decoration-color: #00af00\">0</span> │\n",
       "├─────────────────────────────────┼────────────────────────┼───────────────┤\n",
       "│ mobilenetv2_1.00_224            │ (<span style=\"color: #00d7ff; text-decoration-color: #00d7ff\">None</span>, <span style=\"color: #00af00; text-decoration-color: #00af00\">7</span>, <span style=\"color: #00af00; text-decoration-color: #00af00\">7</span>, <span style=\"color: #00af00; text-decoration-color: #00af00\">1280</span>)     │     <span style=\"color: #00af00; text-decoration-color: #00af00\">2,257,984</span> │\n",
       "│ (<span style=\"color: #0087ff; text-decoration-color: #0087ff\">Functional</span>)                    │                        │               │\n",
       "├─────────────────────────────────┼────────────────────────┼───────────────┤\n",
       "│ global_average_pooling2d        │ (<span style=\"color: #00d7ff; text-decoration-color: #00d7ff\">None</span>, <span style=\"color: #00af00; text-decoration-color: #00af00\">1280</span>)           │             <span style=\"color: #00af00; text-decoration-color: #00af00\">0</span> │\n",
       "│ (<span style=\"color: #0087ff; text-decoration-color: #0087ff\">GlobalAveragePooling2D</span>)        │                        │               │\n",
       "├─────────────────────────────────┼────────────────────────┼───────────────┤\n",
       "│ dropout (<span style=\"color: #0087ff; text-decoration-color: #0087ff\">Dropout</span>)               │ (<span style=\"color: #00d7ff; text-decoration-color: #00d7ff\">None</span>, <span style=\"color: #00af00; text-decoration-color: #00af00\">1280</span>)           │             <span style=\"color: #00af00; text-decoration-color: #00af00\">0</span> │\n",
       "├─────────────────────────────────┼────────────────────────┼───────────────┤\n",
       "│ dense (<span style=\"color: #0087ff; text-decoration-color: #0087ff\">Dense</span>)                   │ (<span style=\"color: #00d7ff; text-decoration-color: #00d7ff\">None</span>, <span style=\"color: #00af00; text-decoration-color: #00af00\">3</span>)              │         <span style=\"color: #00af00; text-decoration-color: #00af00\">3,843</span> │\n",
       "└─────────────────────────────────┴────────────────────────┴───────────────┘\n",
       "</pre>\n"
      ],
      "text/plain": [
       "┏━━━━━━━━━━━━━━━━━━━━━━━━━━━━━━━━━┳━━━━━━━━━━━━━━━━━━━━━━━━┳━━━━━━━━━━━━━━━┓\n",
       "┃\u001b[1m \u001b[0m\u001b[1mLayer (type)                   \u001b[0m\u001b[1m \u001b[0m┃\u001b[1m \u001b[0m\u001b[1mOutput Shape          \u001b[0m\u001b[1m \u001b[0m┃\u001b[1m \u001b[0m\u001b[1m      Param #\u001b[0m\u001b[1m \u001b[0m┃\n",
       "┡━━━━━━━━━━━━━━━━━━━━━━━━━━━━━━━━━╇━━━━━━━━━━━━━━━━━━━━━━━━╇━━━━━━━━━━━━━━━┩\n",
       "│ input_layer_1 (\u001b[38;5;33mInputLayer\u001b[0m)      │ (\u001b[38;5;45mNone\u001b[0m, \u001b[38;5;34m224\u001b[0m, \u001b[38;5;34m224\u001b[0m, \u001b[38;5;34m3\u001b[0m)    │             \u001b[38;5;34m0\u001b[0m │\n",
       "├─────────────────────────────────┼────────────────────────┼───────────────┤\n",
       "│ sequential (\u001b[38;5;33mSequential\u001b[0m)         │ (\u001b[38;5;45mNone\u001b[0m, \u001b[38;5;34m224\u001b[0m, \u001b[38;5;34m224\u001b[0m, \u001b[38;5;34m3\u001b[0m)    │             \u001b[38;5;34m0\u001b[0m │\n",
       "├─────────────────────────────────┼────────────────────────┼───────────────┤\n",
       "│ mobilenetv2_1.00_224            │ (\u001b[38;5;45mNone\u001b[0m, \u001b[38;5;34m7\u001b[0m, \u001b[38;5;34m7\u001b[0m, \u001b[38;5;34m1280\u001b[0m)     │     \u001b[38;5;34m2,257,984\u001b[0m │\n",
       "│ (\u001b[38;5;33mFunctional\u001b[0m)                    │                        │               │\n",
       "├─────────────────────────────────┼────────────────────────┼───────────────┤\n",
       "│ global_average_pooling2d        │ (\u001b[38;5;45mNone\u001b[0m, \u001b[38;5;34m1280\u001b[0m)           │             \u001b[38;5;34m0\u001b[0m │\n",
       "│ (\u001b[38;5;33mGlobalAveragePooling2D\u001b[0m)        │                        │               │\n",
       "├─────────────────────────────────┼────────────────────────┼───────────────┤\n",
       "│ dropout (\u001b[38;5;33mDropout\u001b[0m)               │ (\u001b[38;5;45mNone\u001b[0m, \u001b[38;5;34m1280\u001b[0m)           │             \u001b[38;5;34m0\u001b[0m │\n",
       "├─────────────────────────────────┼────────────────────────┼───────────────┤\n",
       "│ dense (\u001b[38;5;33mDense\u001b[0m)                   │ (\u001b[38;5;45mNone\u001b[0m, \u001b[38;5;34m3\u001b[0m)              │         \u001b[38;5;34m3,843\u001b[0m │\n",
       "└─────────────────────────────────┴────────────────────────┴───────────────┘\n"
      ]
     },
     "metadata": {},
     "output_type": "display_data"
    },
    {
     "data": {
      "text/html": [
       "<pre style=\"white-space:pre;overflow-x:auto;line-height:normal;font-family:Menlo,'DejaVu Sans Mono',consolas,'Courier New',monospace\"><span style=\"font-weight: bold\"> Total params: </span><span style=\"color: #00af00; text-decoration-color: #00af00\">2,261,827</span> (8.63 MB)\n",
       "</pre>\n"
      ],
      "text/plain": [
       "\u001b[1m Total params: \u001b[0m\u001b[38;5;34m2,261,827\u001b[0m (8.63 MB)\n"
      ]
     },
     "metadata": {},
     "output_type": "display_data"
    },
    {
     "data": {
      "text/html": [
       "<pre style=\"white-space:pre;overflow-x:auto;line-height:normal;font-family:Menlo,'DejaVu Sans Mono',consolas,'Courier New',monospace\"><span style=\"font-weight: bold\"> Trainable params: </span><span style=\"color: #00af00; text-decoration-color: #00af00\">3,843</span> (15.01 KB)\n",
       "</pre>\n"
      ],
      "text/plain": [
       "\u001b[1m Trainable params: \u001b[0m\u001b[38;5;34m3,843\u001b[0m (15.01 KB)\n"
      ]
     },
     "metadata": {},
     "output_type": "display_data"
    },
    {
     "data": {
      "text/html": [
       "<pre style=\"white-space:pre;overflow-x:auto;line-height:normal;font-family:Menlo,'DejaVu Sans Mono',consolas,'Courier New',monospace\"><span style=\"font-weight: bold\"> Non-trainable params: </span><span style=\"color: #00af00; text-decoration-color: #00af00\">2,257,984</span> (8.61 MB)\n",
       "</pre>\n"
      ],
      "text/plain": [
       "\u001b[1m Non-trainable params: \u001b[0m\u001b[38;5;34m2,257,984\u001b[0m (8.61 MB)\n"
      ]
     },
     "metadata": {},
     "output_type": "display_data"
    }
   ],
   "source": [
    "print(\"model:\")\n",
    "model.summary()"
   ]
  },
  {
   "cell_type": "code",
   "execution_count": 14,
   "metadata": {},
   "outputs": [
    {
     "name": "stdout",
     "output_type": "stream",
     "text": [
      "Start to learn\n",
      "Epoch 1/15\n",
      "\u001b[1m6/6\u001b[0m \u001b[32m━━━━━━━━━━━━━━━━━━━━\u001b[0m\u001b[37m\u001b[0m \u001b[1m7s\u001b[0m 720ms/step - accuracy: 0.7234 - loss: 0.8299 - val_accuracy: 0.7391 - val_loss: 0.7272\n",
      "Epoch 2/15\n",
      "\u001b[1m6/6\u001b[0m \u001b[32m━━━━━━━━━━━━━━━━━━━━\u001b[0m\u001b[37m\u001b[0m \u001b[1m3s\u001b[0m 540ms/step - accuracy: 0.7340 - loss: 0.7587 - val_accuracy: 0.7391 - val_loss: 0.6659\n",
      "Epoch 3/15\n",
      "\u001b[1m6/6\u001b[0m \u001b[32m━━━━━━━━━━━━━━━━━━━━\u001b[0m\u001b[37m\u001b[0m \u001b[1m3s\u001b[0m 536ms/step - accuracy: 0.7394 - loss: 0.7316 - val_accuracy: 0.7391 - val_loss: 0.6235\n",
      "Epoch 4/15\n",
      "\u001b[1m6/6\u001b[0m \u001b[32m━━━━━━━━━━━━━━━━━━━━\u001b[0m\u001b[37m\u001b[0m \u001b[1m3s\u001b[0m 509ms/step - accuracy: 0.7287 - loss: 0.7034 - val_accuracy: 0.7391 - val_loss: 0.5840\n",
      "Epoch 5/15\n",
      "\u001b[1m6/6\u001b[0m \u001b[32m━━━━━━━━━━━━━━━━━━━━\u001b[0m\u001b[37m\u001b[0m \u001b[1m3s\u001b[0m 522ms/step - accuracy: 0.7660 - loss: 0.6743 - val_accuracy: 0.7391 - val_loss: 0.5536\n",
      "Epoch 6/15\n",
      "\u001b[1m6/6\u001b[0m \u001b[32m━━━━━━━━━━━━━━━━━━━━\u001b[0m\u001b[37m\u001b[0m \u001b[1m3s\u001b[0m 513ms/step - accuracy: 0.7926 - loss: 0.6267 - val_accuracy: 0.7391 - val_loss: 0.5271\n",
      "Epoch 7/15\n",
      "\u001b[1m6/6\u001b[0m \u001b[32m━━━━━━━━━━━━━━━━━━━━\u001b[0m\u001b[37m\u001b[0m \u001b[1m3s\u001b[0m 521ms/step - accuracy: 0.7713 - loss: 0.5585 - val_accuracy: 0.7391 - val_loss: 0.5042\n",
      "Epoch 8/15\n",
      "\u001b[1m6/6\u001b[0m \u001b[32m━━━━━━━━━━━━━━━━━━━━\u001b[0m\u001b[37m\u001b[0m \u001b[1m3s\u001b[0m 513ms/step - accuracy: 0.8032 - loss: 0.5136 - val_accuracy: 0.7609 - val_loss: 0.4848\n",
      "Epoch 9/15\n",
      "\u001b[1m6/6\u001b[0m \u001b[32m━━━━━━━━━━━━━━━━━━━━\u001b[0m\u001b[37m\u001b[0m \u001b[1m3s\u001b[0m 508ms/step - accuracy: 0.7926 - loss: 0.5571 - val_accuracy: 0.8043 - val_loss: 0.4684\n",
      "Epoch 10/15\n",
      "\u001b[1m6/6\u001b[0m \u001b[32m━━━━━━━━━━━━━━━━━━━━\u001b[0m\u001b[37m\u001b[0m \u001b[1m3s\u001b[0m 510ms/step - accuracy: 0.7872 - loss: 0.5086 - val_accuracy: 0.8043 - val_loss: 0.4554\n",
      "Epoch 11/15\n",
      "\u001b[1m6/6\u001b[0m \u001b[32m━━━━━━━━━━━━━━━━━━━━\u001b[0m\u001b[37m\u001b[0m \u001b[1m3s\u001b[0m 506ms/step - accuracy: 0.8085 - loss: 0.4923 - val_accuracy: 0.8043 - val_loss: 0.4440\n",
      "Epoch 12/15\n",
      "\u001b[1m6/6\u001b[0m \u001b[32m━━━━━━━━━━━━━━━━━━━━\u001b[0m\u001b[37m\u001b[0m \u001b[1m3s\u001b[0m 541ms/step - accuracy: 0.8032 - loss: 0.5024 - val_accuracy: 0.8043 - val_loss: 0.4314\n",
      "Epoch 13/15\n",
      "\u001b[1m6/6\u001b[0m \u001b[32m━━━━━━━━━━━━━━━━━━━━\u001b[0m\u001b[37m\u001b[0m \u001b[1m3s\u001b[0m 535ms/step - accuracy: 0.8404 - loss: 0.4835 - val_accuracy: 0.8043 - val_loss: 0.4171\n",
      "Epoch 14/15\n",
      "\u001b[1m6/6\u001b[0m \u001b[32m━━━━━━━━━━━━━━━━━━━━\u001b[0m\u001b[37m\u001b[0m \u001b[1m3s\u001b[0m 516ms/step - accuracy: 0.8457 - loss: 0.4832 - val_accuracy: 0.8043 - val_loss: 0.4029\n",
      "Epoch 15/15\n",
      "\u001b[1m6/6\u001b[0m \u001b[32m━━━━━━━━━━━━━━━━━━━━\u001b[0m\u001b[37m\u001b[0m \u001b[1m3s\u001b[0m 539ms/step - accuracy: 0.8457 - loss: 0.4850 - val_accuracy: 0.8043 - val_loss: 0.3908\n",
      "Finish\n"
     ]
    }
   ],
   "source": [
    "print(\"Start to learn\")\n",
    "history = model.fit(\n",
    "    train_dataset,\n",
    "    validation_data=validation_dataset,\n",
    "    epochs=EPOCHS\n",
    ")\n",
    "print(\"Finish\")\n"
   ]
  },
  {
   "cell_type": "code",
   "execution_count": 15,
   "metadata": {},
   "outputs": [
    {
     "data": {
      "image/png": "[encoded data removed]",
      "text/plain": [
       "<Figure size 1200x400 with 2 Axes>"
      ]
     },
     "metadata": {},
     "output_type": "display_data"
    }
   ],
   "source": [
    "acc = history.history['accuracy']\n",
    "val_acc = history.history['val_accuracy']\n",
    "loss = history.history['loss']\n",
    "val_loss = history.history['val_loss']\n",
    "\n",
    "plt.figure(figsize=(12, 4))\n",
    "plt.subplot(1, 2, 1)\n",
    "plt.plot(acc, label='Training Accuracy')\n",
    "plt.plot(val_acc, label='Validation Accuracy')\n",
    "plt.legend(loc='lower right')\n",
    "plt.title('Training and Validation Accuracy')\n",
    "\n",
    "plt.subplot(1, 2, 2)\n",
    "plt.plot(loss, label='Training Loss')\n",
    "plt.plot(val_loss, label='Validation Loss')\n",
    "plt.legend(loc='upper right')\n",
    "plt.title('Training and Validation Loss')\n",
    "plt.show()"
   ]
  },
  {
   "cell_type": "code",
   "execution_count": 16,
   "metadata": {},
   "outputs": [
    {
     "name": "stdout",
     "output_type": "stream",
     "text": [
      "File: 1000_F_217132285_OhaJpnPCjdp4zhlJaA42Izgt87JeJ2YX_jpg.rf.47e95a8ac68cce2c7f7aae9c12da4d06.jpg -> Class Prediction: 'temp-humid' (48.30%)\n",
      "File: 1000_F_217132285_OhaJpnPCjdp4zhlJaA42Izgt87JeJ2YX_jpg.rf.da64ef7f3d638847b3ed787e5febd2f2.jpg -> Class Prediction: 'temp-humid' (43.36%)\n",
      "File: 1000_F_217132285_OhaJpnPCjdp4zhlJaA42Izgt87JeJ2YX_jpg.rf.f3ce84546e65b19224ab87b5f5a22687.jpg -> Class Prediction: 'temp-humid' (51.70%)\n",
      "File: 101_jpg.rf.12d4987b2c587186ca833c65c11bddd1.jpg -> Class Prediction: 'unripe' (44.30%)\n",
      "File: 101_jpg.rf.3972ed5b8e79b8002e1b3bf7ede544ab.jpg -> Class Prediction: 'unripe' (43.83%)\n",
      "File: 101_jpg.rf.c90ac9c5f08a6e523905a0e4d97c39e7.jpg -> Class Prediction: 'unripe' (44.50%)\n",
      "File: 104_jpg.rf.3237550104c4a1b1c10d690879a1c3d5.jpg -> Class Prediction: 'temp-humid' (47.68%)\n",
      "File: 104_jpg.rf.37520d7d603fd036f502f55b233fd8d1.jpg -> Class Prediction: 'temp-humid' (48.64%)\n",
      "File: 104_jpg.rf.49f4f467c991ea1407cb1feaecc2d65e.jpg -> Class Prediction: 'temp-humid' (48.64%)\n",
      "File: 105_jpg.rf.5ab196257aa6d8f484e3adfd20fcf62f.jpg -> Class Prediction: 'temp-humid' (43.13%)\n",
      "File: 105_jpg.rf.5b845d38169925476cef1b6210bcc278.jpg -> Class Prediction: 'temp-humid' (46.64%)\n",
      "File: 105_jpg.rf.c96ff192bbc2a1db3655e76b2c8c87d4.jpg -> Class Prediction: 'temp-humid' (46.22%)\n",
      "File: 106_jpg.rf.6ea780b6ac52ce36763a3bc293222ab1.jpg -> Class Prediction: 'temp-humid' (41.92%)\n",
      "File: 106_jpg.rf.b74acee659dbcbff2e09ad4e7f934844.jpg -> Class Prediction: 'temp-humid' (41.06%)\n",
      "File: 106_jpg.rf.bb6a9a7dc114f44a1ec95fd0aa63f5c0.jpg -> Class Prediction: 'temp-humid' (38.92%)\n",
      "File: 107_jpg.rf.198fc7396ab1ed222ea21ce80dc02c3f.jpg -> Class Prediction: 'temp-humid' (48.19%)\n",
      "File: 107_jpg.rf.ab188f2d0792f1165f18b20dd319c520.jpg -> Class Prediction: 'temp-humid' (46.40%)\n",
      "File: 107_jpg.rf.fc7ed03d2730ae34bd095064342b4433.jpg -> Class Prediction: 'temp-humid' (48.76%)\n",
      "File: 108_jpg.rf.befa186481b2820fd680880eca6614b5.jpg -> Class Prediction: 'temp-humid' (42.52%)\n",
      "File: 108_jpg.rf.d5295fc9317ca080dc1d9f8f74662b96.jpg -> Class Prediction: 'unripe' (39.66%)\n",
      "File: 108_jpg.rf.f5575d586c15441485a7347c8b9d5b1b.jpg -> Class Prediction: 'temp-humid' (44.66%)\n",
      "File: 109_jpg.rf.5af23581355db6767c72fcd612d0e85b.jpg -> Class Prediction: 'temp-humid' (37.78%)\n",
      "File: 109_jpg.rf.8d3e0d8a7014359d8a26ac4e429d20a5.jpg -> Class Prediction: 'temp-humid' (38.16%)\n",
      "File: 109_jpg.rf.ca8273ef891ed34c8faba4ed61bac927.jpg -> Class Prediction: 'unripe' (37.79%)\n",
      "File: 10_jpg.rf.3477eabb723caf6e5b2f6ec4d635da7a.jpg -> Class Prediction: 'temp-humid' (49.88%)\n",
      "File: 10_jpg.rf.43d032483ea7e789da31204c1f79ab97.jpg -> Class Prediction: 'temp-humid' (46.70%)\n",
      "File: 10_jpg.rf.444612f3e355994fff3ec87658c4848a.jpg -> Class Prediction: 'temp-humid' (38.83%)\n",
      "File: 10_jpg.rf.965e521a1f1526d3d9ab903e7850b26c.jpg -> Class Prediction: 'temp-humid' (43.28%)\n",
      "File: 10_jpg.rf.c308ee3dad58a9d7c5e908884b78f6ba.jpg -> Class Prediction: 'temp-humid' (48.12%)\n",
      "File: 10_jpg.rf.c80b81f545e95630a8580ab21224a325.jpg -> Class Prediction: 'temp-humid' (41.34%)\n",
      "File: 110_jpg.rf.08431d77a1f2b880243ee99eceb8b554.jpg -> Class Prediction: 'unripe' (47.64%)\n",
      "File: 110_jpg.rf.d15f02107ba09e0f6c654e812f18f4aa.jpg -> Class Prediction: 'unripe' (48.78%)\n",
      "File: 110_jpg.rf.ead5af9b0c7dd608da7e663f0bccdafd.jpg -> Class Prediction: 'unripe' (47.99%)\n",
      "File: 111_jpg.rf.10d761da56099899fff8c0b55c695b7a.jpg -> Class Prediction: 'unripe' (38.26%)\n",
      "File: 111_jpg.rf.b5fdc8eab0ad53ad3dcf13ea39e02d1c.jpg -> Class Prediction: 'unripe' (38.75%)\n",
      "File: 111_jpg.rf.dcd7119f969c1932c2d173814ed072a1.jpg -> Class Prediction: 'temp-humid' (41.75%)\n",
      "File: 113_jpg.rf.7f53fbe8e0814d7c3ed8fdb9fca7af3d.jpg -> Class Prediction: 'temp-humid' (38.13%)\n",
      "File: 113_jpg.rf.e2a50ee5d63cd9f1880e2e0641effa69.jpg -> Class Prediction: 'temp-humid' (43.17%)\n",
      "File: 113_jpg.rf.fe815e42bde1337d0c3bd877405c5677.jpg -> Class Prediction: 'temp-humid' (43.09%)\n",
      "File: 116_jpg.rf.6094d3021e21b91122c4e494c1438ba9.jpg -> Class Prediction: 'temp-humid' (50.12%)\n",
      "File: 116_jpg.rf.8508a3770df6bc2a1861c994b5c7475d.jpg -> Class Prediction: 'temp-humid' (43.83%)\n",
      "File: 116_jpg.rf.bc1e7467a4aa3bbf05de7d20f6d1af7b.jpg -> Class Prediction: 'temp-humid' (51.29%)\n",
      "File: 117_jpg.rf.4d71a45fecd3bcaf9a41938bf6911b6b.jpg -> Class Prediction: 'temp-humid' (43.11%)\n",
      "File: 117_jpg.rf.91fcbdbb0da890f1a9d25ac48ec78b53.jpg -> Class Prediction: 'temp-humid' (43.11%)\n",
      "File: 117_jpg.rf.ac6e21a72ea94a6b09e752252cc2a7bb.jpg -> Class Prediction: 'temp-humid' (38.95%)\n",
      "File: 118_jpg.rf.399328d7232c3918f4896492663a17dc.jpg -> Class Prediction: 'temp-humid' (41.04%)\n",
      "File: 118_jpg.rf.7e767bb23eaec241806cb4f9e98ca89a.jpg -> Class Prediction: 'temp-humid' (43.88%)\n",
      "File: 118_jpg.rf.c81da467b92c80a5ecca312822adae8a.jpg -> Class Prediction: 'temp-humid' (45.68%)\n",
      "File: 119_jpg.rf.7dc733703329bc70df62f9f44670c8ef.jpg -> Class Prediction: 'temp-humid' (41.70%)\n",
      "File: 119_jpg.rf.8a804c52b27f90c2bec5123f291b24de.jpg -> Class Prediction: 'temp-humid' (44.19%)\n",
      "File: 119_jpg.rf.fcc3b10cabae46e61197ad15319535c8.jpg -> Class Prediction: 'temp-humid' (39.54%)\n",
      "File: 11_jpg.rf.893780bc7a6e8e1a6013b5cc7a6b894b.jpg -> Class Prediction: 'temp-humid' (47.40%)\n",
      "File: 11_jpg.rf.a780e547b0ae3eff8ffcda046d9a0744.jpg -> Class Prediction: 'temp-humid' (47.11%)\n",
      "File: 11_jpg.rf.e15720b87fe66346e6a672f74e856a57.jpg -> Class Prediction: 'temp-humid' (45.84%)\n",
      "File: 121_jpg.rf.8dfce62a3e627e34e6201f10b72db748.jpg -> Class Prediction: 'temp-humid' (40.85%)\n",
      "File: 121_jpg.rf.8f47f3266a2291545b9fb9de65aeb484.jpg -> Class Prediction: 'unripe' (44.28%)\n",
      "File: 121_jpg.rf.fa480321fb986e4d0cf3648e8fe74473.jpg -> Class Prediction: 'temp-humid' (41.07%)\n",
      "File: 122_jpg.rf.560a7ce56ee2a24baa931064842fdcd1.jpg -> Class Prediction: 'temp-humid' (44.94%)\n",
      "File: 122_jpg.rf.5751ff33c15a417caeb02b5fbcbe87d5.jpg -> Class Prediction: 'temp-humid' (44.94%)\n",
      "File: 122_jpg.rf.6812925e6491b6afab89cfd87e475461.jpg -> Class Prediction: 'temp-humid' (46.55%)\n",
      "File: 123_jpg.rf.1b0be639b065de07a9d9cc108c2cba57.jpg -> Class Prediction: 'temp-humid' (48.87%)\n",
      "File: 123_jpg.rf.72e63168ce71cb3234ffbc41734d5322.jpg -> Class Prediction: 'temp-humid' (39.63%)\n",
      "File: 123_jpg.rf.d1cf2d79367ccac736780e1c6d260fdc.jpg -> Class Prediction: 'temp-humid' (42.36%)\n",
      "File: 124_jpg.rf.37219ac0361e46dcf791d59b5cd62736.jpg -> Class Prediction: 'temp-humid' (43.59%)\n",
      "File: 124_jpg.rf.62f50a087ad40ea6138a3cab432f7bf8.jpg -> Class Prediction: 'temp-humid' (44.97%)\n",
      "File: 124_jpg.rf.da629f47a4a627ab9e9b207cb23d494c.jpg -> Class Prediction: 'temp-humid' (44.76%)\n",
      "File: 125_jpg.rf.64b2eb75ad45b3d75dbfb9712e9fdcd2.jpg -> Class Prediction: 'temp-humid' (46.22%)\n",
      "File: 125_jpg.rf.c64fa701c5ec87a14f07193af562d7d2.jpg -> Class Prediction: 'temp-humid' (45.95%)\n",
      "File: 125_jpg.rf.d74345e432e5e0876871e28a94e1c5a3.jpg -> Class Prediction: 'temp-humid' (47.16%)\n",
      "File: 127_jpg.rf.451c600ec850be4e03152de53c6ba275.jpg -> Class Prediction: 'temp-humid' (43.48%)\n",
      "File: 127_jpg.rf.5c386edb49c81ca95dad06c726990311.jpg -> Class Prediction: 'temp-humid' (48.06%)\n",
      "File: 127_jpg.rf.d794dc0d77956bed420e257eda3828de.jpg -> Class Prediction: 'temp-humid' (42.26%)\n",
      "File: 128_jpg.rf.1228c1e7a3efcec16c6774ead7a475b5.jpg -> Class Prediction: 'unripe' (39.91%)\n",
      "File: 128_jpg.rf.2c49ec244504eeaa2e29d98f400de50c.jpg -> Class Prediction: 'temp-humid' (39.32%)\n",
      "File: 128_jpg.rf.d8ea6dd9ff8d06f516a93f6dc537d3ff.jpg -> Class Prediction: 'temp-humid' (49.41%)\n",
      "File: 132_jpg.rf.98c1b110bf503b288d53c12e05f45bde.jpg -> Class Prediction: 'unripe' (39.04%)\n",
      "File: 132_jpg.rf.d6f8c495f3def2dbdb5ca121f7670352.jpg -> Class Prediction: 'temp-humid' (43.74%)\n",
      "File: 132_jpg.rf.ef41bb88842e659e73732d97f0c15b7e.jpg -> Class Prediction: 'temp-humid' (45.63%)\n",
      "File: 133_jpg.rf.33f49ea53a399a480e725efc9511d98c.jpg -> Class Prediction: 'unripe' (50.90%)\n",
      "File: 133_jpg.rf.b5265ffa6e89cd5edd43651ac3ef0764.jpg -> Class Prediction: 'unripe' (44.75%)\n",
      "File: 133_jpg.rf.c0c035ff5a81a9781065b2bb851707b7.jpg -> Class Prediction: 'unripe' (43.98%)\n",
      "File: 134_jpg.rf.46f23ff9b547a40716352781550af6ca.jpg -> Class Prediction: 'unripe' (41.96%)\n",
      "File: 134_jpg.rf.842c9b1aafe057226fa6ed6784ea1413.jpg -> Class Prediction: 'temp-humid' (44.15%)\n",
      "File: 134_jpg.rf.f3de4ba559fa01e7a2cb221fa80ca61f.jpg -> Class Prediction: 'unripe' (38.14%)\n",
      "File: 14_jpg.rf.407c244586945ce3a9a7d467b76e76a2.jpg -> Class Prediction: 'temp-humid' (46.03%)\n",
      "File: 14_jpg.rf.447049999ef5f265c3f9c49721b0e6b7.jpg -> Class Prediction: 'temp-humid' (45.10%)\n",
      "File: 14_jpg.rf.92cc676053afb15afff7db6cd28d1204.jpg -> Class Prediction: 'temp-humid' (46.45%)\n",
      "File: 15_jpg.rf.264046a87b4d25a8ae6b51b6ef7ceef6.jpg -> Class Prediction: 'temp-humid' (37.59%)\n",
      "File: 15_jpg.rf.46239d504d4a97a87f82dbee766c322f.jpg -> Class Prediction: 'unripe' (44.02%)\n",
      "File: 15_jpg.rf.a5cc150a1f478ca9c7145a73e9ed4dfd.jpg -> Class Prediction: 'unripe' (44.27%)\n",
      "File: 17_jpeg.rf.15d236015dfd55c8a12036df1de0a068.jpg -> Class Prediction: 'temp-humid' (36.60%)\n",
      "File: 17_jpeg.rf.5b28c73da64a8af705c1e3d20309f6f4.jpg -> Class Prediction: 'temp-humid' (44.47%)\n",
      "File: 17_jpeg.rf.b3b391a60b88c4481f5bc99ab3783c41.jpg -> Class Prediction: 'temp-humid' (41.67%)\n",
      "File: 18_jpg.rf.973bacff426a74e8498b023eded5bc34.jpg -> Class Prediction: 'unripe' (43.38%)\n",
      "File: 18_jpg.rf.a71d5fc8e4006cd272787cbe67db31f7.jpg -> Class Prediction: 'unripe' (43.07%)\n",
      "File: 18_jpg.rf.ca677c6d6f6df118183965690b180c10.jpg -> Class Prediction: 'unripe' (42.19%)\n",
      "File: 19_jpg.rf.32601a89ddfadca4faf58a552dd06b43.jpg -> Class Prediction: 'unripe' (39.79%)\n",
      "File: 19_jpg.rf.8d8db3d50eeb9ada84cf33a41cde633a.jpg -> Class Prediction: 'unripe' (40.09%)\n",
      "File: 19_jpg.rf.f0e088bb558264033fe0aa4c33df43d5.jpg -> Class Prediction: 'unripe' (38.34%)\n",
      "File: 1_jpg.rf.3e1333f40f6ca657255f65c80c5b8502.jpg -> Class Prediction: 'temp-humid' (41.95%)\n",
      "File: 1_jpg.rf.96e348ec7d4dfefcb8d7c1f4dfbb74d1.jpg -> Class Prediction: 'temp-humid' (42.57%)\n",
      "File: 1_jpg.rf.cb081dddbc7b7754b7caac4d03053736.jpg -> Class Prediction: 'temp-humid' (44.68%)\n",
      "File: 20_jpg.rf.8ebe65b4cc0f397250654814e8c65f09.jpg -> Class Prediction: 'unripe' (39.95%)\n",
      "File: 20_jpg.rf.aeba577c0f7b8b3d8744024e0bf2cd88.jpg -> Class Prediction: 'unripe' (38.02%)\n",
      "File: 20_jpg.rf.b6d1957679f2746fbbedde42c3644c11.jpg -> Class Prediction: 'temp-humid' (39.51%)\n",
      "File: 21_jpg.rf.269375c823cbd4c818dad6c3fe6f42e7.jpg -> Class Prediction: 'temp-humid' (42.23%)\n",
      "File: 21_jpg.rf.b42eda398749171ea130a740c6a32ea8.jpg -> Class Prediction: 'temp-humid' (48.61%)\n",
      "File: 21_jpg.rf.e857b3bb89c96c2b78c96103f97502a3.jpg -> Class Prediction: 'temp-humid' (40.35%)\n",
      "File: 22_jpg.rf.418b6346f85b96939621cf0337750b96.jpg -> Class Prediction: 'temp-humid' (39.11%)\n",
      "File: 22_jpg.rf.55c8df759e36b349c25a1181d33cc8d6.jpg -> Class Prediction: 'temp-humid' (40.66%)\n",
      "File: 22_jpg.rf.59512d330ad96a6f33f73de5d587fa53.jpg -> Class Prediction: 'unripe' (40.05%)\n",
      "File: 23_jpg.rf.385001ff8821eb1b2f47254642e31f1a.jpg -> Class Prediction: 'temp-humid' (54.18%)\n",
      "File: 23_jpg.rf.454d28d25512b5769c495b7135233103.jpg -> Class Prediction: 'temp-humid' (54.47%)\n",
      "File: 23_jpg.rf.97684f0ee507010853e1c9b523f72f58.jpg -> Class Prediction: 'temp-humid' (54.16%)\n",
      "File: 24_jpeg.rf.435734a4fdf5e91d98dd7f6e2a54b037.jpg -> Class Prediction: 'temp-humid' (50.57%)\n",
      "File: 24_jpeg.rf.6ecef392bb4c2c3e46b6e53fb4b571bd.jpg -> Class Prediction: 'temp-humid' (48.77%)\n",
      "File: 24_jpeg.rf.ee85b20e9c6873e153ab9ed1df863f46.jpg -> Class Prediction: 'temp-humid' (46.53%)\n",
      "File: 25_jpg.rf.37b276348febbff6f37e30f9ecd77bce.jpg -> Class Prediction: 'temp-humid' (43.88%)\n",
      "File: 25_jpg.rf.4e1cd9b3124db66af5cff13af783847a.jpg -> Class Prediction: 'temp-humid' (43.92%)\n",
      "File: 25_jpg.rf.de18b85f72d31ae0c9dc45aef75faec6.jpg -> Class Prediction: 'temp-humid' (43.46%)\n",
      "File: 276636691_jpg.rf.384561d6ea526bc702cb5f6691570cb7.jpg -> Class Prediction: 'unripe' (45.02%)\n",
      "File: 276636691_jpg.rf.5d109216f6239f00e820dfb9581ff252.jpg -> Class Prediction: 'unripe' (43.32%)\n",
      "File: 276636691_jpg.rf.d94f099a33d97722bf89729e1819d605.jpg -> Class Prediction: 'unripe' (39.37%)\n",
      "File: 27_jpg.rf.784de5a965334e79deb28b2127ed1bcd.jpg -> Class Prediction: 'unripe' (39.09%)\n",
      "File: 27_jpg.rf.9a31b2aa68c85d33280d0a25ac5c6fe2.jpg -> Class Prediction: 'temp-humid' (38.32%)\n",
      "File: 27_jpg.rf.abbdfb695848cdd8c36d508b8979b0b4.jpg -> Class Prediction: 'unripe' (38.95%)\n",
      "File: 28_jpg.rf.12e06cc5b7c08be57ba20e5bc66d14c7.jpg -> Class Prediction: 'unripe' (48.45%)\n",
      "File: 28_jpg.rf.af1c16c1edf2214d6a02fd615d4bda2c.jpg -> Class Prediction: 'unripe' (51.87%)\n",
      "File: 28_jpg.rf.bc3762a958ae12004c86779404e74069.jpg -> Class Prediction: 'unripe' (52.32%)\n",
      "File: 30_jpg.rf.014e8acaa8af86eed0197381d7135da3.jpg -> Class Prediction: 'unripe' (52.14%)\n",
      "File: 30_jpg.rf.68b5ababe0a16b86e24458059165809b.jpg -> Class Prediction: 'unripe' (53.71%)\n",
      "File: 30_jpg.rf.d5e257efd7c975e0340009534f15aff3.jpg -> Class Prediction: 'unripe' (51.80%)\n",
      "File: 31_jpg.rf.59883bdadfa372dee86afc41f101b0f3.jpg -> Class Prediction: 'unripe' (48.40%)\n",
      "File: 31_jpg.rf.876c0d6e57758f63449370d0d7bedde5.jpg -> Class Prediction: 'unripe' (52.69%)\n",
      "File: 31_jpg.rf.f5afe4bc819f8982708dc117613c4bc9.jpg -> Class Prediction: 'unripe' (53.86%)\n",
      "File: 35_jpg.rf.6b8b81f65ad9714de0ae9e520c3ea281.jpg -> Class Prediction: 'unripe' (47.49%)\n",
      "File: 35_jpg.rf.b1bba7912780e41378e7090490000328.jpg -> Class Prediction: 'unripe' (48.95%)\n",
      "File: 35_jpg.rf.cd584e91daae4ee8a7ea44e1e8fc6167.jpg -> Class Prediction: 'unripe' (51.16%)\n",
      "File: 38_jpg.rf.cd11e300c6dfadccf53f34602e2bd760.jpg -> Class Prediction: 'temp-humid' (52.48%)\n",
      "File: 38_jpg.rf.e210fc49d70e3c476d6c8d45916a7388.jpg -> Class Prediction: 'temp-humid' (53.44%)\n",
      "File: 38_jpg.rf.ea6778b5026678931680b3f5436b1880.jpg -> Class Prediction: 'temp-humid' (50.45%)\n",
      "File: 39_jpg.rf.57db3219bbfb5536fc4d66b693e62c39.jpg -> Class Prediction: 'unripe' (38.85%)\n",
      "File: 39_jpg.rf.7d008277a916395de05bdde9625d8760.jpg -> Class Prediction: 'temp-humid' (44.97%)\n",
      "File: 39_jpg.rf.97dbdd665c800e7c0dd1453d2186792b.jpg -> Class Prediction: 'temp-humid' (46.83%)\n",
      "File: 40_jpg.rf.2d4980f635adc9688ed80d1ff8a91f45.jpg -> Class Prediction: 'unripe' (39.95%)\n",
      "File: 40_jpg.rf.87055a2c467d5847f3ab520462529a0e.jpg -> Class Prediction: 'unripe' (42.37%)\n",
      "File: 40_jpg.rf.b3f79ce33488b4f1187c9b132ff74155.jpg -> Class Prediction: 'unripe' (41.87%)\n",
      "File: 41_jpg.rf.2647ccc6dfaa62e7e91039bc0d5f34de.jpg -> Class Prediction: 'unripe' (38.53%)\n",
      "File: 41_jpg.rf.a56a76862ccc194715df9a9a7c964f32.jpg -> Class Prediction: 'unripe' (37.63%)\n",
      "File: 41_jpg.rf.c812305d24c3bb9f796966a1494f15ca.jpg -> Class Prediction: 'temp-humid' (37.82%)\n",
      "File: 42991_2_1201634_jpg.rf.33e6d229f804f3539a253790c36ae998.jpg -> Class Prediction: 'temp-humid' (52.85%)\n",
      "File: 42991_2_1201634_jpg.rf.96ed70cf519c23772356e4ec66772531.jpg -> Class Prediction: 'temp-humid' (49.83%)\n",
      "File: 42991_2_1201634_jpg.rf.bdc8e2334fd3ee2c6e1a5491f8147d5e.jpg -> Class Prediction: 'temp-humid' (54.19%)\n",
      "File: 42_jpg.rf.28d98546c81e81d7991a82a73387ff7e.jpg -> Class Prediction: 'temp-humid' (38.11%)\n",
      "File: 42_jpg.rf.eebbd9cbbbdddc55b4a189cc0d3a9430.jpg -> Class Prediction: 'unripe' (40.57%)\n",
      "File: 42_jpg.rf.fc7a4be56fcb675c4adfc1cc7be770c2.jpg -> Class Prediction: 'unripe' (38.67%)\n",
      "File: 43_jpg.rf.19a8c3f679ea422e6b81be4396940074.jpg -> Class Prediction: 'temp-humid' (48.38%)\n",
      "File: 43_jpg.rf.1f11bb3039091233ce75017b87a6f5b3.jpg -> Class Prediction: 'temp-humid' (42.60%)\n",
      "File: 43_jpg.rf.ccbc1b742f6d2bc25996ca3e07fdf3e6.jpg -> Class Prediction: 'temp-humid' (50.38%)\n",
      "File: 45_jpg.rf.2bf985f7237e3266bd52355b7ea52f0c.jpg -> Class Prediction: 'temp-humid' (39.53%)\n",
      "File: 45_jpg.rf.71c38c1000244f608a54b5329c0b5702.jpg -> Class Prediction: 'temp-humid' (50.09%)\n",
      "File: 45_jpg.rf.b301249423f2627117b417c4bc6e32cb.jpg -> Class Prediction: 'temp-humid' (42.49%)\n",
      "File: 47_jpg.rf.34e363191cbb779954cdec36b2c24d81.jpg -> Class Prediction: 'temp-humid' (43.46%)\n",
      "File: 47_jpg.rf.38ada4020474d6ecc57ac1e99994761f.jpg -> Class Prediction: 'temp-humid' (38.14%)\n",
      "File: 47_jpg.rf.cfe2bd112ad04964609a8bac43d90e74.jpg -> Class Prediction: 'temp-humid' (39.19%)\n",
      "File: 48_jpg.rf.07dc46b410d0d38080dd65a6d042dc1a.jpg -> Class Prediction: 'temp-humid' (41.92%)\n",
      "File: 48_jpg.rf.597b5d55e0d844f89158f6646d1ce15c.jpg -> Class Prediction: 'temp-humid' (45.52%)\n",
      "File: 48_jpg.rf.9e553a41ee8165e4f8229540989d1dce.jpg -> Class Prediction: 'temp-humid' (47.80%)\n",
      "File: 49_jpg.rf.b987dda8ccd9581c5a05f105a6cdf1de.jpg -> Class Prediction: 'unripe' (47.66%)\n",
      "File: 49_jpg.rf.f32f7e283666117119dbe5a12130b081.jpg -> Class Prediction: 'temp-humid' (44.26%)\n",
      "File: 49_jpg.rf.fae3a9cee9be2aeca24479707efa75fa.jpg -> Class Prediction: 'temp-humid' (38.09%)\n",
      "File: 51_jpg.rf.49228830d88520909bb9abbd17653c81.jpg -> Class Prediction: 'temp-humid' (44.66%)\n",
      "File: 51_jpg.rf.6834104ab7adfb77343f04abec9dec73.jpg -> Class Prediction: 'temp-humid' (45.04%)\n",
      "File: 51_jpg.rf.7e3301e87ae1e797212095893b1117cc.jpg -> Class Prediction: 'temp-humid' (42.39%)\n",
      "File: 52_jpg.rf.4a6ae01c3b0c950a44cf37452ab57f47.jpg -> Class Prediction: 'unripe' (39.89%)\n",
      "File: 52_jpg.rf.6ec3bfe3f3fa677ca5154004cd0c8746.jpg -> Class Prediction: 'temp-humid' (50.07%)\n",
      "File: 52_jpg.rf.b7082aea557026e299d94125d2973c2b.jpg -> Class Prediction: 'temp-humid' (39.71%)\n",
      "File: 54_jpg.rf.0cf3bb170bf5b90a6ee52b1154dfcf5c.jpg -> Class Prediction: 'temp-humid' (38.28%)\n",
      "File: 54_jpg.rf.1f8cfd98094a142331b0dd0c82dff3d3.jpg -> Class Prediction: 'temp-humid' (37.87%)\n",
      "File: 54_jpg.rf.8248406a84a4f8048ec7f7f8e4e597a5.jpg -> Class Prediction: 'temp-humid' (38.02%)\n",
      "File: 58_jpg.rf.0afc63bbc1a3c74512dc5ab3762dc8af.jpg -> Class Prediction: 'temp-humid' (50.30%)\n",
      "File: 58_jpg.rf.a6c329d75490d26488e2ba0f8df29cb3.jpg -> Class Prediction: 'temp-humid' (41.39%)\n",
      "File: 58_jpg.rf.edf0f01d808593f1d8cc872150de59a5.jpg -> Class Prediction: 'temp-humid' (42.50%)\n",
      "File: 59_jpg.rf.2f88e60cac85fee9c442ee7c1f33ff53.jpg -> Class Prediction: 'temp-humid' (45.33%)\n",
      "File: 59_jpg.rf.ccbcb630dc296731985a12502456eb3a.jpg -> Class Prediction: 'temp-humid' (43.90%)\n",
      "File: 59_jpg.rf.e367b3904a249070c7059dfb32e3a81c.jpg -> Class Prediction: 'temp-humid' (45.16%)\n",
      "File: 61_jpg.rf.03e2897bbc8d9234baa7cf834c80afbd.jpg -> Class Prediction: 'temp-humid' (43.58%)\n",
      "File: 61_jpg.rf.30857037673bfee0049afbf3e6b085cb.jpg -> Class Prediction: 'temp-humid' (44.15%)\n",
      "File: 61_jpg.rf.35e19eff9dfd4d99813dde1aefaaa1b8.jpg -> Class Prediction: 'temp-humid' (43.09%)\n",
      "File: 63_jpg.rf.8a6bd770697ce9d0b7ae3e542294fd94.jpg -> Class Prediction: 'unripe' (37.65%)\n",
      "File: 63_jpg.rf.b4bb0745192947233244c3675bb71457.jpg -> Class Prediction: 'unripe' (39.25%)\n",
      "File: 63_jpg.rf.d357d166fb391e69d66201ee1bb0140d.jpg -> Class Prediction: 'unripe' (42.56%)\n",
      "File: 64_jpg.rf.33d3dca8818e69823380e3e64a575d40.jpg -> Class Prediction: 'unripe' (43.86%)\n",
      "File: 64_jpg.rf.52c7323bb04300a49a4f264b668c131b.jpg -> Class Prediction: 'unripe' (44.93%)\n",
      "File: 64_jpg.rf.fe4242a155ba1ad21ce592c95623904d.jpg -> Class Prediction: 'unripe' (45.43%)\n",
      "File: 66_jpg.rf.169854974d280b5b1b1ac6656ffc2456.jpg -> Class Prediction: 'temp-humid' (41.08%)\n",
      "File: 66_jpg.rf.9b05db0dc25068f263d3e452a32b4b14.jpg -> Class Prediction: 'unripe' (40.10%)\n",
      "File: 66_jpg.rf.f0d1f8792edc0d7e8fca6aef43af19c7.jpg -> Class Prediction: 'temp-humid' (38.95%)\n",
      "File: 67_jpg.rf.12ee55ef49b7ea6c48b621bf8d62bf13.jpg -> Class Prediction: 'unripe' (40.94%)\n",
      "File: 67_jpg.rf.18d289dd4c3645849c921b6eab5d8494.jpg -> Class Prediction: 'temp-humid' (38.15%)\n",
      "File: 67_jpg.rf.377535523e8cf73ae7cd986fae2cd0a6.jpg -> Class Prediction: 'unripe' (41.97%)\n",
      "File: 68_jpg.rf.9812eb0bc85f8860ee1a9a9cea37aa0a.jpg -> Class Prediction: 'temp-humid' (55.84%)\n",
      "File: 68_jpg.rf.a0faaf080454c264571ea9ba179e97de.jpg -> Class Prediction: 'temp-humid' (55.24%)\n",
      "File: 68_jpg.rf.e6da9e8104eaedf19c4817bb3e9f6e9a.jpg -> Class Prediction: 'temp-humid' (54.63%)\n",
      "File: 6_jpg.rf.46411726c393e83950372b7640adacca.jpg -> Class Prediction: 'temp-humid' (46.83%)\n",
      "File: 6_jpg.rf.5923ce786d1e0a6d4d03d07066722b94.jpg -> Class Prediction: 'temp-humid' (46.37%)\n",
      "File: 6_jpg.rf.fdf6b014ba66ea292cd4647557a7c49c.jpg -> Class Prediction: 'temp-humid' (46.02%)\n",
      "File: 70_jpg.rf.41a6b30b5bf8682b43a3299fa085b510.jpg -> Class Prediction: 'temp-humid' (41.35%)\n",
      "File: 70_jpg.rf.42f019e7492aba7667c098e9d58d17f3.jpg -> Class Prediction: 'temp-humid' (46.68%)\n",
      "File: 70_jpg.rf.4dec84a8ca37846f0dfb383d387abaac.jpg -> Class Prediction: 'temp-humid' (42.15%)\n",
      "File: 73_jpg.rf.1b9c9873c4e37ddddcc37a43544ff1b3.jpg -> Class Prediction: 'temp-humid' (38.55%)\n",
      "File: 73_jpg.rf.2133692bbdeb6d692726a7207df4cfa5.jpg -> Class Prediction: 'temp-humid' (38.20%)\n",
      "File: 73_jpg.rf.db72fafda66ee56669156522ff062f64.jpg -> Class Prediction: 'unripe' (41.86%)\n",
      "File: 74_jpg.rf.1eb1be64b8176b30e2bb653c86a8547d.jpg -> Class Prediction: 'temp-humid' (40.88%)\n",
      "File: 74_jpg.rf.6eefff30677303ef0455bd5ba194fdea.jpg -> Class Prediction: 'temp-humid' (39.41%)\n",
      "File: 74_jpg.rf.f347065797a37e93d4aaa283fcf0b738.jpg -> Class Prediction: 'temp-humid' (45.75%)\n",
      "File: 75714095-this-is-a-photograph-of-rotten-moldy-strawberries_jpg.rf.489f0c664ba9554cfb8df7cb657c4bcb.jpg -> Class Prediction: 'temp-humid' (46.79%)\n",
      "File: 75714095-this-is-a-photograph-of-rotten-moldy-strawberries_jpg.rf.c4c7bb6f4a357bc16568477a73572039.jpg -> Class Prediction: 'temp-humid' (45.36%)\n",
      "File: 75714095-this-is-a-photograph-of-rotten-moldy-strawberries_jpg.rf.ff558f071431be7d9a01e772a930dcc4.jpg -> Class Prediction: 'temp-humid' (46.51%)\n",
      "File: 75_jpg.rf.23fe53fba5b617665c04cae13727c021.jpg -> Class Prediction: 'temp-humid' (47.57%)\n",
      "File: 75_jpg.rf.573fb8355cff443b605a53d051fa104b.jpg -> Class Prediction: 'temp-humid' (43.85%)\n",
      "File: 75_jpg.rf.755c0b37dd2a68db6eea8cd4afe6492d.jpg -> Class Prediction: 'temp-humid' (48.86%)\n",
      "File: 77_jpg.rf.3fc06ae536fb7c0267fe26e8b147a598.jpg -> Class Prediction: 'unripe' (44.99%)\n",
      "File: 77_jpg.rf.5e8f1c901fdae7a7cf6a6a312a8b928b.jpg -> Class Prediction: 'unripe' (39.74%)\n",
      "File: 77_jpg.rf.c04872e01a45e2a9ad1d4a8cfc8b740a.jpg -> Class Prediction: 'temp-humid' (39.71%)\n",
      "File: 78_jpg.rf.2e5fb988c33b09a7dfb32db1102bebb2.jpg -> Class Prediction: 'temp-humid' (54.68%)\n",
      "File: 78_jpg.rf.9d425c31dff800fb1e6aaacaa9bdde99.jpg -> Class Prediction: 'temp-humid' (52.47%)\n",
      "File: 78_jpg.rf.f35fac818eb602b39c4c494d7c8e8df1.jpg -> Class Prediction: 'temp-humid' (54.11%)\n",
      "File: 79_jpg.rf.22dbf9b4d0389cd641df611b5c86c59c.jpg -> Class Prediction: 'temp-humid' (38.44%)\n",
      "File: 79_jpg.rf.7b10c73e83af4253eed979ea1505be6f.jpg -> Class Prediction: 'temp-humid' (40.75%)\n",
      "File: 79_jpg.rf.eefbca4eba69ac7cb75ffb6757e0fef1.jpg -> Class Prediction: 'temp-humid' (38.80%)\n",
      "File: 7_jpg.rf.0f8a8399e5435aed97751348810ef24c.jpg -> Class Prediction: 'unripe' (45.45%)\n",
      "File: 7_jpg.rf.1c51a196862e5bc6314a5e8399ae52d6.jpg -> Class Prediction: 'unripe' (40.76%)\n",
      "File: 7_jpg.rf.a317ba709fce1e0c03117a7e3c5d8263.jpg -> Class Prediction: 'unripe' (47.87%)\n",
      "File: 80_jpg.rf.48c88ba65de75e18ba8180527bcca3e8.jpg -> Class Prediction: 'temp-humid' (41.60%)\n",
      "File: 80_jpg.rf.a6e646743b591c37173eea344510eb0b.jpg -> Class Prediction: 'unripe' (42.92%)\n",
      "File: 80_jpg.rf.d4b710cd6536676632d1ab08bd8df8ec.jpg -> Class Prediction: 'unripe' (43.75%)\n",
      "File: 81_jpg.rf.128f75e55cbe1babc102019e8cf8eb44.jpg -> Class Prediction: 'unripe' (40.57%)\n",
      "File: 81_jpg.rf.4c787767957dcd24f166015a9efb2994.jpg -> Class Prediction: 'temp-humid' (38.83%)\n",
      "File: 81_jpg.rf.7cdef39427a286b2da729d4343efe85f.jpg -> Class Prediction: 'unripe' (37.05%)\n",
      "File: 84_jpg.rf.2a0c7541afdfce9417e27fec2062f46f.jpg -> Class Prediction: 'temp-humid' (42.91%)\n",
      "File: 84_jpg.rf.3f2ae4a5093f72c8909d616ab38fda3d.jpg -> Class Prediction: 'temp-humid' (41.00%)\n",
      "File: 84_jpg.rf.4a5c362982ec0bc22b5a159b851c25d2.jpg -> Class Prediction: 'temp-humid' (38.90%)\n",
      "File: 85_jpg.rf.781537f4de978873f58c8b5b8085f68f.jpg -> Class Prediction: 'temp-humid' (46.34%)\n",
      "File: 85_jpg.rf.809e6c4651c6a811a9137beb54319094.jpg -> Class Prediction: 'temp-humid' (39.91%)\n",
      "File: 85_jpg.rf.854da40e0c088891043fe386f73ac5ab.jpg -> Class Prediction: 'unripe' (42.62%)\n",
      "File: 86_jpg.rf.4fe564d62d24d050a53736bfc39d1eee.jpg -> Class Prediction: 'unripe' (43.13%)\n",
      "File: 86_jpg.rf.601d9b3df741a00cc94a558280e92ae8.jpg -> Class Prediction: 'unripe' (41.06%)\n",
      "File: 86_jpg.rf.b0cf52d00968e8b71878350ab2e10aff.jpg -> Class Prediction: 'unripe' (42.52%)\n",
      "File: 88_jpg.rf.434a97b8315af9cd7985bb869279749c.jpg -> Class Prediction: 'unripe' (38.61%)\n",
      "File: 88_jpg.rf.9a6bb80eac72c7ff1fd728da070e6533.jpg -> Class Prediction: 'unripe' (45.86%)\n",
      "File: 88_jpg.rf.e28d6901d337fb2b12a3144ab21cb6c7.jpg -> Class Prediction: 'unripe' (41.79%)\n",
      "File: 89_jpg.rf.105892d8b4bc26e534f5ad7a3e0717d6.jpg -> Class Prediction: 'temp-humid' (52.50%)\n",
      "File: 89_jpg.rf.11109920a199a71db0d148ba98a3b0f5.jpg -> Class Prediction: 'temp-humid' (47.67%)\n",
      "File: 89_jpg.rf.44dc81d09e778dfeba9df0a1cd913a08.jpg -> Class Prediction: 'temp-humid' (53.07%)\n",
      "File: 8_jpg.rf.4d7441b33807bfd26ba00f4ca9c5c6cb.jpg -> Class Prediction: 'unripe' (43.13%)\n",
      "File: 8_jpg.rf.93c034207db9137ba4a92cab70a18381.jpg -> Class Prediction: 'unripe' (41.34%)\n",
      "File: 8_jpg.rf.eb90a7b97ce87a979442dd60753ab228.jpg -> Class Prediction: 'unripe' (47.65%)\n",
      "File: 91_jpg.rf.069bb4dfca48477f0560fa3d133294b6.jpg -> Class Prediction: 'unripe' (41.10%)\n",
      "File: 91_jpg.rf.5c45a0522f708632015508c3cb357eba.jpg -> Class Prediction: 'temp-humid' (38.40%)\n",
      "File: 91_jpg.rf.dd59f0994bbc7512a5398427e96aa7b2.jpg -> Class Prediction: 'temp-humid' (38.31%)\n",
      "File: 94_jpg.rf.571a4ad02ddcdbbbd502417cf8499913.jpg -> Class Prediction: 'unripe' (42.45%)\n",
      "File: 94_jpg.rf.781cc6340739a7f2172d512bad415cc3.jpg -> Class Prediction: 'unripe' (46.46%)\n",
      "File: 94_jpg.rf.7a94f30ae7cfe28044c5666522c77bb7.jpg -> Class Prediction: 'unripe' (43.19%)\n",
      "File: 96_jpg.rf.46baddf5992cceb252f1d4cd55469494.jpg -> Class Prediction: 'temp-humid' (45.26%)\n",
      "File: 96_jpg.rf.74b5e7767d6fddfdbe124edb01086b09.jpg -> Class Prediction: 'temp-humid' (51.46%)\n",
      "File: 96_jpg.rf.f6fbdad056fed2cb92a0a1d2f716504e.jpg -> Class Prediction: 'temp-humid' (50.12%)\n",
      "File: 97_jpg.rf.0b44dcaadc31a8ea51af97ffaece2bc6.jpg -> Class Prediction: 'temp-humid' (38.56%)\n",
      "File: 97_jpg.rf.208e31d20fe4295fb163a75e0b6710a0.jpg -> Class Prediction: 'temp-humid' (41.64%)\n",
      "File: 97_jpg.rf.24ba4ed286323dcbf6550dfbf0450304.jpg -> Class Prediction: 'temp-humid' (44.31%)\n",
      "File: 9_jpg.rf.81281a80eb9942af439e46f98aafda51.jpg -> Class Prediction: 'temp-humid' (48.32%)\n",
      "File: 9_jpg.rf.829f9c28fcd18b7eb0b9c2b5ed48d768.jpg -> Class Prediction: 'unripe' (37.82%)\n",
      "File: 9_jpg.rf.ec3eab864b4cb6b7a40f7ca564b8d302.jpg -> Class Prediction: 'temp-humid' (51.08%)\n",
      "File: a-horz-1493022222447-0-121-555-1010-crop-1493022238528_jpg.rf.67b35d58065683569b58ac5c46779d8d.jpg -> Class Prediction: 'temp-humid' (49.65%)\n",
      "File: a-horz-1493022222447-0-121-555-1010-crop-1493022238528_jpg.rf.86278970e66b577abc6e2bf8ecef89d6.jpg -> Class Prediction: 'temp-humid' (49.42%)\n"
     ]
    },
    {
     "ename": "KeyboardInterrupt",
     "evalue": "",
     "output_type": "error",
     "traceback": [
      "\u001b[1;31m---------------------------------------------------------------------------\u001b[0m",
      "\u001b[1;31mKeyboardInterrupt\u001b[0m                         Traceback (most recent call last)",
      "Cell \u001b[1;32mIn[16], line 12\u001b[0m\n\u001b[0;32m      9\u001b[0m img_array \u001b[38;5;241m=\u001b[39m tf\u001b[38;5;241m.\u001b[39mkeras\u001b[38;5;241m.\u001b[39mutils\u001b[38;5;241m.\u001b[39mimg_to_array(img)\n\u001b[0;32m     10\u001b[0m img_array \u001b[38;5;241m=\u001b[39m tf\u001b[38;5;241m.\u001b[39mexpand_dims(img_array, \u001b[38;5;241m0\u001b[39m)\n\u001b[1;32m---> 12\u001b[0m predictions \u001b[38;5;241m=\u001b[39m \u001b[43mmodel\u001b[49m\u001b[38;5;241;43m.\u001b[39;49m\u001b[43mpredict\u001b[49m\u001b[43m(\u001b[49m\u001b[43mimg_array\u001b[49m\u001b[43m,\u001b[49m\u001b[43m \u001b[49m\u001b[43mverbose\u001b[49m\u001b[38;5;241;43m=\u001b[39;49m\u001b[38;5;241;43m0\u001b[39;49m\u001b[43m)\u001b[49m\n\u001b[0;32m     13\u001b[0m score \u001b[38;5;241m=\u001b[39m tf\u001b[38;5;241m.\u001b[39mnn\u001b[38;5;241m.\u001b[39msoftmax(predictions[\u001b[38;5;241m0\u001b[39m])\n\u001b[0;32m     15\u001b[0m file_name \u001b[38;5;241m=\u001b[39m os\u001b[38;5;241m.\u001b[39mpath\u001b[38;5;241m.\u001b[39mbasename(test_image_path)\n",
      "File \u001b[1;32m~\\AppData\\Local\\Packages\\PythonSoftwareFoundation.Python.3.10_qbz5n2kfra8p0\\LocalCache\\local-packages\\Python310\\site-packages\\keras\\src\\utils\\traceback_utils.py:117\u001b[0m, in \u001b[0;36mfilter_traceback.<locals>.error_handler\u001b[1;34m(*args, **kwargs)\u001b[0m\n\u001b[0;32m    115\u001b[0m filtered_tb \u001b[38;5;241m=\u001b[39m \u001b[38;5;28;01mNone\u001b[39;00m\n\u001b[0;32m    116\u001b[0m \u001b[38;5;28;01mtry\u001b[39;00m:\n\u001b[1;32m--> 117\u001b[0m     \u001b[38;5;28;01mreturn\u001b[39;00m fn(\u001b[38;5;241m*\u001b[39margs, \u001b[38;5;241m*\u001b[39m\u001b[38;5;241m*\u001b[39mkwargs)\n\u001b[0;32m    118\u001b[0m \u001b[38;5;28;01mexcept\u001b[39;00m \u001b[38;5;167;01mException\u001b[39;00m \u001b[38;5;28;01mas\u001b[39;00m e:\n\u001b[0;32m    119\u001b[0m     filtered_tb \u001b[38;5;241m=\u001b[39m _process_traceback_frames(e\u001b[38;5;241m.\u001b[39m__traceback__)\n",
      "File \u001b[1;32m~\\AppData\\Local\\Packages\\PythonSoftwareFoundation.Python.3.10_qbz5n2kfra8p0\\LocalCache\\local-packages\\Python310\\site-packages\\keras\\src\\backend\\tensorflow\\trainer.py:505\u001b[0m, in \u001b[0;36mTensorFlowTrainer.predict\u001b[1;34m(self, x, batch_size, verbose, steps, callbacks)\u001b[0m\n\u001b[0;32m    500\u001b[0m \u001b[38;5;129m@traceback_utils\u001b[39m\u001b[38;5;241m.\u001b[39mfilter_traceback\n\u001b[0;32m    501\u001b[0m \u001b[38;5;28;01mdef\u001b[39;00m\u001b[38;5;250m \u001b[39m\u001b[38;5;21mpredict\u001b[39m(\n\u001b[0;32m    502\u001b[0m     \u001b[38;5;28mself\u001b[39m, x, batch_size\u001b[38;5;241m=\u001b[39m\u001b[38;5;28;01mNone\u001b[39;00m, verbose\u001b[38;5;241m=\u001b[39m\u001b[38;5;124m\"\u001b[39m\u001b[38;5;124mauto\u001b[39m\u001b[38;5;124m\"\u001b[39m, steps\u001b[38;5;241m=\u001b[39m\u001b[38;5;28;01mNone\u001b[39;00m, callbacks\u001b[38;5;241m=\u001b[39m\u001b[38;5;28;01mNone\u001b[39;00m\n\u001b[0;32m    503\u001b[0m ):\n\u001b[0;32m    504\u001b[0m     \u001b[38;5;66;03m# Create an iterator that yields batches of input data.\u001b[39;00m\n\u001b[1;32m--> 505\u001b[0m     epoch_iterator \u001b[38;5;241m=\u001b[39m \u001b[43mTFEpochIterator\u001b[49m\u001b[43m(\u001b[49m\n\u001b[0;32m    506\u001b[0m \u001b[43m        \u001b[49m\u001b[43mx\u001b[49m\u001b[38;5;241;43m=\u001b[39;49m\u001b[43mx\u001b[49m\u001b[43m,\u001b[49m\n\u001b[0;32m    507\u001b[0m \u001b[43m        \u001b[49m\u001b[43mbatch_size\u001b[49m\u001b[38;5;241;43m=\u001b[39;49m\u001b[43mbatch_size\u001b[49m\u001b[43m,\u001b[49m\n\u001b[0;32m    508\u001b[0m \u001b[43m        \u001b[49m\u001b[43msteps_per_epoch\u001b[49m\u001b[38;5;241;43m=\u001b[39;49m\u001b[43msteps\u001b[49m\u001b[43m,\u001b[49m\n\u001b[0;32m    509\u001b[0m \u001b[43m        \u001b[49m\u001b[43mshuffle\u001b[49m\u001b[38;5;241;43m=\u001b[39;49m\u001b[38;5;28;43;01mFalse\u001b[39;49;00m\u001b[43m,\u001b[49m\n\u001b[0;32m    510\u001b[0m \u001b[43m        \u001b[49m\u001b[43mdistribute_strategy\u001b[49m\u001b[38;5;241;43m=\u001b[39;49m\u001b[38;5;28;43mself\u001b[39;49m\u001b[38;5;241;43m.\u001b[39;49m\u001b[43mdistribute_strategy\u001b[49m\u001b[43m,\u001b[49m\n\u001b[0;32m    511\u001b[0m \u001b[43m        \u001b[49m\u001b[43msteps_per_execution\u001b[49m\u001b[38;5;241;43m=\u001b[39;49m\u001b[38;5;28;43mself\u001b[39;49m\u001b[38;5;241;43m.\u001b[39;49m\u001b[43msteps_per_execution\u001b[49m\u001b[43m,\u001b[49m\n\u001b[0;32m    512\u001b[0m \u001b[43m    \u001b[49m\u001b[43m)\u001b[49m\n\u001b[0;32m    514\u001b[0m     \u001b[38;5;66;03m# Container that configures and calls callbacks.\u001b[39;00m\n\u001b[0;32m    515\u001b[0m     \u001b[38;5;28;01mif\u001b[39;00m \u001b[38;5;129;01mnot\u001b[39;00m \u001b[38;5;28misinstance\u001b[39m(callbacks, callbacks_module\u001b[38;5;241m.\u001b[39mCallbackList):\n",
      "File \u001b[1;32m~\\AppData\\Local\\Packages\\PythonSoftwareFoundation.Python.3.10_qbz5n2kfra8p0\\LocalCache\\local-packages\\Python310\\site-packages\\keras\\src\\backend\\tensorflow\\trainer.py:728\u001b[0m, in \u001b[0;36mTFEpochIterator.__init__\u001b[1;34m(self, distribute_strategy, *args, **kwargs)\u001b[0m\n\u001b[0;32m    726\u001b[0m \u001b[38;5;28msuper\u001b[39m()\u001b[38;5;241m.\u001b[39m\u001b[38;5;21m__init__\u001b[39m(\u001b[38;5;241m*\u001b[39margs, \u001b[38;5;241m*\u001b[39m\u001b[38;5;241m*\u001b[39mkwargs)\n\u001b[0;32m    727\u001b[0m \u001b[38;5;28mself\u001b[39m\u001b[38;5;241m.\u001b[39m_distribute_strategy \u001b[38;5;241m=\u001b[39m distribute_strategy\n\u001b[1;32m--> 728\u001b[0m dataset \u001b[38;5;241m=\u001b[39m \u001b[38;5;28;43mself\u001b[39;49m\u001b[38;5;241;43m.\u001b[39;49m\u001b[43mdata_adapter\u001b[49m\u001b[38;5;241;43m.\u001b[39;49m\u001b[43mget_tf_dataset\u001b[49m\u001b[43m(\u001b[49m\u001b[43m)\u001b[49m\n\u001b[0;32m    729\u001b[0m \u001b[38;5;28;01mif\u001b[39;00m \u001b[38;5;129;01mnot\u001b[39;00m \u001b[38;5;28misinstance\u001b[39m(dataset, tf\u001b[38;5;241m.\u001b[39mdistribute\u001b[38;5;241m.\u001b[39mDistributedDataset):\n\u001b[0;32m    730\u001b[0m     dataset \u001b[38;5;241m=\u001b[39m \u001b[38;5;28mself\u001b[39m\u001b[38;5;241m.\u001b[39m_distribute_strategy\u001b[38;5;241m.\u001b[39mexperimental_distribute_dataset(\n\u001b[0;32m    731\u001b[0m         dataset\n\u001b[0;32m    732\u001b[0m     )\n",
      "File \u001b[1;32m~\\AppData\\Local\\Packages\\PythonSoftwareFoundation.Python.3.10_qbz5n2kfra8p0\\LocalCache\\local-packages\\Python310\\site-packages\\keras\\src\\trainers\\data_adapters\\array_data_adapter.py:235\u001b[0m, in \u001b[0;36mArrayDataAdapter.get_tf_dataset\u001b[1;34m(self)\u001b[0m\n\u001b[0;32m    232\u001b[0m \u001b[38;5;28;01mif\u001b[39;00m shuffle \u001b[38;5;241m==\u001b[39m \u001b[38;5;124m\"\u001b[39m\u001b[38;5;124mbatch\u001b[39m\u001b[38;5;124m\"\u001b[39m:\n\u001b[0;32m    233\u001b[0m     indices_dataset \u001b[38;5;241m=\u001b[39m indices_dataset\u001b[38;5;241m.\u001b[39mmap(tf\u001b[38;5;241m.\u001b[39mrandom\u001b[38;5;241m.\u001b[39mshuffle)\n\u001b[1;32m--> 235\u001b[0m dataset \u001b[38;5;241m=\u001b[39m \u001b[43mslice_inputs\u001b[49m\u001b[43m(\u001b[49m\u001b[43mindices_dataset\u001b[49m\u001b[43m,\u001b[49m\u001b[43m \u001b[49m\u001b[38;5;28;43mself\u001b[39;49m\u001b[38;5;241;43m.\u001b[39;49m\u001b[43m_inputs\u001b[49m\u001b[43m)\u001b[49m\n\u001b[0;32m    237\u001b[0m options \u001b[38;5;241m=\u001b[39m tf\u001b[38;5;241m.\u001b[39mdata\u001b[38;5;241m.\u001b[39mOptions()\n\u001b[0;32m    238\u001b[0m options\u001b[38;5;241m.\u001b[39mexperimental_distribute\u001b[38;5;241m.\u001b[39mauto_shard_policy \u001b[38;5;241m=\u001b[39m (\n\u001b[0;32m    239\u001b[0m     tf\u001b[38;5;241m.\u001b[39mdata\u001b[38;5;241m.\u001b[39mexperimental\u001b[38;5;241m.\u001b[39mAutoShardPolicy\u001b[38;5;241m.\u001b[39mDATA\n\u001b[0;32m    240\u001b[0m )\n",
      "File \u001b[1;32m~\\AppData\\Local\\Packages\\PythonSoftwareFoundation.Python.3.10_qbz5n2kfra8p0\\LocalCache\\local-packages\\Python310\\site-packages\\keras\\src\\trainers\\data_adapters\\array_data_adapter.py:196\u001b[0m, in \u001b[0;36mArrayDataAdapter.get_tf_dataset.<locals>.slice_inputs\u001b[1;34m(indices_dataset, inputs)\u001b[0m\n\u001b[0;32m    191\u001b[0m inputs \u001b[38;5;241m=\u001b[39m array_slicing\u001b[38;5;241m.\u001b[39mconvert_to_sliceable(\n\u001b[0;32m    192\u001b[0m     \u001b[38;5;28mself\u001b[39m\u001b[38;5;241m.\u001b[39m_inputs, target_backend\u001b[38;5;241m=\u001b[39m\u001b[38;5;124m\"\u001b[39m\u001b[38;5;124mtensorflow\u001b[39m\u001b[38;5;124m\"\u001b[39m\n\u001b[0;32m    193\u001b[0m )\n\u001b[0;32m    194\u001b[0m inputs \u001b[38;5;241m=\u001b[39m tree\u001b[38;5;241m.\u001b[39mlists_to_tuples(inputs)\n\u001b[1;32m--> 196\u001b[0m dataset \u001b[38;5;241m=\u001b[39m \u001b[43mtf\u001b[49m\u001b[38;5;241;43m.\u001b[39;49m\u001b[43mdata\u001b[49m\u001b[38;5;241;43m.\u001b[39;49m\u001b[43mDataset\u001b[49m\u001b[38;5;241;43m.\u001b[39;49m\u001b[43mzip\u001b[49m\u001b[43m(\u001b[49m\n\u001b[0;32m    197\u001b[0m \u001b[43m    \u001b[49m\u001b[43m(\u001b[49m\u001b[43mindices_dataset\u001b[49m\u001b[43m,\u001b[49m\u001b[43m \u001b[49m\u001b[43mtf\u001b[49m\u001b[38;5;241;43m.\u001b[39;49m\u001b[43mdata\u001b[49m\u001b[38;5;241;43m.\u001b[39;49m\u001b[43mDataset\u001b[49m\u001b[38;5;241;43m.\u001b[39;49m\u001b[43mfrom_tensors\u001b[49m\u001b[43m(\u001b[49m\u001b[43minputs\u001b[49m\u001b[43m)\u001b[49m\u001b[38;5;241;43m.\u001b[39;49m\u001b[43mrepeat\u001b[49m\u001b[43m(\u001b[49m\u001b[43m)\u001b[49m\u001b[43m)\u001b[49m\n\u001b[0;32m    198\u001b[0m \u001b[43m\u001b[49m\u001b[43m)\u001b[49m\n\u001b[0;32m    200\u001b[0m \u001b[38;5;28;01mdef\u001b[39;00m\u001b[38;5;250m \u001b[39m\u001b[38;5;21mgrab_batch\u001b[39m(i, data):\n\u001b[0;32m    201\u001b[0m     \u001b[38;5;28;01mdef\u001b[39;00m\u001b[38;5;250m \u001b[39m\u001b[38;5;21mgrab_one\u001b[39m(x):\n",
      "File \u001b[1;32m~\\AppData\\Local\\Packages\\PythonSoftwareFoundation.Python.3.10_qbz5n2kfra8p0\\LocalCache\\local-packages\\Python310\\site-packages\\tensorflow\\python\\data\\ops\\dataset_ops.py:1088\u001b[0m, in \u001b[0;36mDatasetV2.zip\u001b[1;34m(datasets, name, *args)\u001b[0m\n\u001b[0;32m   1086\u001b[0m \u001b[38;5;28;01melif\u001b[39;00m \u001b[38;5;28mlen\u001b[39m(args) \u001b[38;5;241m>\u001b[39m \u001b[38;5;241m1\u001b[39m:\n\u001b[0;32m   1087\u001b[0m   datasets \u001b[38;5;241m=\u001b[39m args\n\u001b[1;32m-> 1088\u001b[0m \u001b[38;5;28;01mreturn\u001b[39;00m \u001b[43mzip_op\u001b[49m\u001b[38;5;241;43m.\u001b[39;49m\u001b[43m_zip\u001b[49m\u001b[43m(\u001b[49m\u001b[43mdatasets\u001b[49m\u001b[43m,\u001b[49m\u001b[43m \u001b[49m\u001b[43mname\u001b[49m\u001b[43m)\u001b[49m\n",
      "File \u001b[1;32m~\\AppData\\Local\\Packages\\PythonSoftwareFoundation.Python.3.10_qbz5n2kfra8p0\\LocalCache\\local-packages\\Python310\\site-packages\\tensorflow\\python\\data\\ops\\zip_op.py:24\u001b[0m, in \u001b[0;36m_zip\u001b[1;34m(datasets, name)\u001b[0m\n\u001b[0;32m     23\u001b[0m \u001b[38;5;28;01mdef\u001b[39;00m\u001b[38;5;250m \u001b[39m\u001b[38;5;21m_zip\u001b[39m(datasets, name):  \u001b[38;5;66;03m# pylint: disable=redefined-builtin\u001b[39;00m\n\u001b[1;32m---> 24\u001b[0m   \u001b[38;5;28;01mreturn\u001b[39;00m \u001b[43m_ZipDataset\u001b[49m\u001b[43m(\u001b[49m\u001b[43mdatasets\u001b[49m\u001b[43m,\u001b[49m\u001b[43m \u001b[49m\u001b[43mname\u001b[49m\u001b[43m)\u001b[49m\n",
      "File \u001b[1;32m~\\AppData\\Local\\Packages\\PythonSoftwareFoundation.Python.3.10_qbz5n2kfra8p0\\LocalCache\\local-packages\\Python310\\site-packages\\tensorflow\\python\\data\\ops\\zip_op.py:51\u001b[0m, in \u001b[0;36m_ZipDataset.__init__\u001b[1;34m(self, datasets, name)\u001b[0m\n\u001b[0;32m     47\u001b[0m \u001b[38;5;28mself\u001b[39m\u001b[38;5;241m.\u001b[39m_structure \u001b[38;5;241m=\u001b[39m nest\u001b[38;5;241m.\u001b[39mpack_sequence_as(\n\u001b[0;32m     48\u001b[0m     \u001b[38;5;28mself\u001b[39m\u001b[38;5;241m.\u001b[39m_datasets, [ds\u001b[38;5;241m.\u001b[39melement_spec \u001b[38;5;28;01mfor\u001b[39;00m ds \u001b[38;5;129;01min\u001b[39;00m nest\u001b[38;5;241m.\u001b[39mflatten(\u001b[38;5;28mself\u001b[39m\u001b[38;5;241m.\u001b[39m_datasets)]\n\u001b[0;32m     49\u001b[0m )\n\u001b[0;32m     50\u001b[0m \u001b[38;5;28mself\u001b[39m\u001b[38;5;241m.\u001b[39m_name \u001b[38;5;241m=\u001b[39m name\n\u001b[1;32m---> 51\u001b[0m variant_tensor \u001b[38;5;241m=\u001b[39m gen_dataset_ops\u001b[38;5;241m.\u001b[39mzip_dataset(\n\u001b[0;32m     52\u001b[0m     [ds\u001b[38;5;241m.\u001b[39m_variant_tensor \u001b[38;5;28;01mfor\u001b[39;00m ds \u001b[38;5;129;01min\u001b[39;00m nest\u001b[38;5;241m.\u001b[39mflatten(\u001b[38;5;28mself\u001b[39m\u001b[38;5;241m.\u001b[39m_datasets)],\n\u001b[0;32m     53\u001b[0m     \u001b[38;5;241m*\u001b[39m\u001b[38;5;241m*\u001b[39m\u001b[38;5;28mself\u001b[39m\u001b[38;5;241m.\u001b[39m_common_args,\n\u001b[0;32m     54\u001b[0m )\n\u001b[0;32m     55\u001b[0m \u001b[38;5;28msuper\u001b[39m()\u001b[38;5;241m.\u001b[39m\u001b[38;5;21m__init__\u001b[39m(variant_tensor)\n",
      "File \u001b[1;32m~\\AppData\\Local\\Packages\\PythonSoftwareFoundation.Python.3.10_qbz5n2kfra8p0\\LocalCache\\local-packages\\Python310\\site-packages\\tensorflow\\python\\ops\\gen_dataset_ops.py:8316\u001b[0m, in \u001b[0;36mzip_dataset\u001b[1;34m(input_datasets, output_types, output_shapes, metadata, name)\u001b[0m\n\u001b[0;32m   8314\u001b[0m \u001b[38;5;28;01mif\u001b[39;00m tld\u001b[38;5;241m.\u001b[39mis_eager:\n\u001b[0;32m   8315\u001b[0m   \u001b[38;5;28;01mtry\u001b[39;00m:\n\u001b[1;32m-> 8316\u001b[0m     _result \u001b[38;5;241m=\u001b[39m \u001b[43mpywrap_tfe\u001b[49m\u001b[38;5;241;43m.\u001b[39;49m\u001b[43mTFE_Py_FastPathExecute\u001b[49m\u001b[43m(\u001b[49m\n\u001b[0;32m   8317\u001b[0m \u001b[43m      \u001b[49m\u001b[43m_ctx\u001b[49m\u001b[43m,\u001b[49m\u001b[43m \u001b[49m\u001b[38;5;124;43m\"\u001b[39;49m\u001b[38;5;124;43mZipDataset\u001b[39;49m\u001b[38;5;124;43m\"\u001b[39;49m\u001b[43m,\u001b[49m\u001b[43m \u001b[49m\u001b[43mname\u001b[49m\u001b[43m,\u001b[49m\u001b[43m \u001b[49m\u001b[43minput_datasets\u001b[49m\u001b[43m,\u001b[49m\u001b[43m \u001b[49m\u001b[38;5;124;43m\"\u001b[39;49m\u001b[38;5;124;43moutput_types\u001b[39;49m\u001b[38;5;124;43m\"\u001b[39;49m\u001b[43m,\u001b[49m\n\u001b[0;32m   8318\u001b[0m \u001b[43m      \u001b[49m\u001b[43moutput_types\u001b[49m\u001b[43m,\u001b[49m\u001b[43m \u001b[49m\u001b[38;5;124;43m\"\u001b[39;49m\u001b[38;5;124;43moutput_shapes\u001b[39;49m\u001b[38;5;124;43m\"\u001b[39;49m\u001b[43m,\u001b[49m\u001b[43m \u001b[49m\u001b[43moutput_shapes\u001b[49m\u001b[43m,\u001b[49m\u001b[43m \u001b[49m\u001b[38;5;124;43m\"\u001b[39;49m\u001b[38;5;124;43mmetadata\u001b[39;49m\u001b[38;5;124;43m\"\u001b[39;49m\u001b[43m,\u001b[49m\u001b[43m \u001b[49m\u001b[43mmetadata\u001b[49m\u001b[43m)\u001b[49m\n\u001b[0;32m   8319\u001b[0m     \u001b[38;5;28;01mreturn\u001b[39;00m _result\n\u001b[0;32m   8320\u001b[0m   \u001b[38;5;28;01mexcept\u001b[39;00m _core\u001b[38;5;241m.\u001b[39m_NotOkStatusException \u001b[38;5;28;01mas\u001b[39;00m e:\n",
      "\u001b[1;31mKeyboardInterrupt\u001b[0m: "
     ]
    }
   ],
   "source": [
    "import glob\n",
    "\n",
    "image_paths = glob.glob(os.path.join('./dataset/step3/*.jpg'))\n",
    "\n",
    "for test_image_path in image_paths:\n",
    "    img = tf.keras.utils.load_img(\n",
    "        test_image_path, target_size=(IMG_SIZE, IMG_SIZE)\n",
    "    )\n",
    "    img_array = tf.keras.utils.img_to_array(img)\n",
    "    img_array = tf.expand_dims(img_array, 0)\n",
    "\n",
    "    predictions = model.predict(img_array, verbose=0)\n",
    "    score = tf.nn.softmax(predictions[0])\n",
    "\n",
    "    file_name = os.path.basename(test_image_path)\n",
    "    predicted_class = class_names[np.argmax(score)]\n",
    "    confidence = 100 * np.max(score)\n",
    "\n",
    "    print(f\"File: {file_name} -> Class Prediction: '{predicted_class}' ({confidence:.2f}%)\")\n",
    "    \n",
    "print('Finish to test')\n"
   ]
  }
 ],
 "metadata": {
  "kernelspec": {
   "display_name": "Python 3",
   "language": "python",
   "name": "python3"
  },
  "language_info": {
   "codemirror_mode": {
    "name": "ipython",
    "version": 3
   },
   "file_extension": ".py",
   "mimetype": "text/x-python",
   "name": "python",
   "nbconvert_exporter": "python",
   "pygments_lexer": "ipython3",
   "version": "3.10.11"
  }
 },
 "nbformat": 4,
 "nbformat_minor": 2
}
