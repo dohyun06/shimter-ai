{
 "cells": [
  {
   "cell_type": "code",
   "execution_count": 1,
   "metadata": {},
   "outputs": [],
   "source": [
    "import tensorflow as tf\n",
    "import matplotlib.pyplot as plt\n",
    "import numpy as np\n",
    "import os"
   ]
  },
  {
   "cell_type": "code",
   "execution_count": null,
   "metadata": {},
   "outputs": [
    {
     "name": "stdout",
     "output_type": "stream",
     "text": [
      "c:\\Users\\hyun4\\Documents\\Develop\\shimter-ai\n"
     ]
    }
   ],
   "source": [
    "data_dir = './dataset/step1'\n",
    "IMG_SIZE = 224 \n",
    "BATCH_SIZE = 32\n",
    "EPOCHS = 15  \n"
   ]
  },
  {
   "cell_type": "code",
   "execution_count": null,
   "metadata": {},
   "outputs": [
    {
     "name": "stdout",
     "output_type": "stream",
     "text": [
      "./dataset/step1\n",
      "Found 140 files belonging to 2 classes.\n",
      "Using 112 files for training.\n"
     ]
    }
   ],
   "source": [
    "train_dataset = tf.keras.utils.image_dataset_from_directory(\n",
    "    data_dir, \n",
    "    validation_split=0.2, \n",
    "    subset=\"training\", \n",
    "    seed=123, \n",
    "    image_size=(IMG_SIZE, IMG_SIZE),\n",
    "    batch_size=BATCH_SIZE\n",
    ")  "
   ]
  },
  {
   "cell_type": "code",
   "execution_count": 4,
   "metadata": {},
   "outputs": [
    {
     "name": "stdout",
     "output_type": "stream",
     "text": [
      "Found 140 files belonging to 2 classes.\n",
      "Using 28 files for validation.\n"
     ]
    }
   ],
   "source": [
    "validation_dataset = tf.keras.utils.image_dataset_from_directory(\n",
    "    data_dir,\n",
    "    validation_split=0.2,\n",
    "    subset=\"validation\",\n",
    "    seed=123,\n",
    "    image_size=(IMG_SIZE, IMG_SIZE),\n",
    "    batch_size=BATCH_SIZE\n",
    ")"
   ]
  },
  {
   "cell_type": "code",
   "execution_count": 5,
   "metadata": {},
   "outputs": [
    {
     "name": "stdout",
     "output_type": "stream",
     "text": [
      "Names of class: ['abnormal', 'normal']\n"
     ]
    }
   ],
   "source": [
    "class_names = train_dataset.class_names\n",
    "print(\"Names of class:\", class_names)\n",
    "num_classes = len(class_names)"
   ]
  },
  {
   "cell_type": "code",
   "execution_count": 6,
   "metadata": {},
   "outputs": [],
   "source": [
    "AUTOTUNE = tf.data.AUTOTUNE\n",
    "train_dataset = train_dataset.cache().shuffle(1000).prefetch(buffer_size=AUTOTUNE)\n",
    "validation_dataset = validation_dataset.cache().prefetch(buffer_size=AUTOTUNE)"
   ]
  },
  {
   "cell_type": "code",
   "execution_count": 7,
   "metadata": {},
   "outputs": [],
   "source": [
    "data_augmentation = tf.keras.Sequential([\n",
    "    tf.keras.layers.RandomFlip('horizontal'),\n",
    "    tf.keras.layers.RandomRotation(0.2),\n",
    "])"
   ]
  },
  {
   "cell_type": "code",
   "execution_count": 8,
   "metadata": {},
   "outputs": [
    {
     "name": "stdout",
     "output_type": "stream",
     "text": [
      "Downloading data from https://storage.googleapis.com/tensorflow/keras-applications/mobilenet_v2/mobilenet_v2_weights_tf_dim_ordering_tf_kernels_1.0_224_no_top.h5\n",
      "\u001b[1m9406464/9406464\u001b[0m \u001b[32m━━━━━━━━━━━━━━━━━━━━\u001b[0m\u001b[37m\u001b[0m \u001b[1m7s\u001b[0m 1us/step\n"
     ]
    }
   ],
   "source": [
    "base_model = tf.keras.applications.MobileNetV2(\n",
    "    input_shape=(IMG_SIZE, IMG_SIZE, 3),\n",
    "    include_top=False,\n",
    "    weights='imagenet'\n",
    ")"
   ]
  },
  {
   "cell_type": "code",
   "execution_count": 9,
   "metadata": {},
   "outputs": [],
   "source": [
    "base_model.trainable = False\n"
   ]
  },
  {
   "cell_type": "code",
   "execution_count": 10,
   "metadata": {},
   "outputs": [],
   "source": [
    "inputs = tf.keras.Input(shape=(IMG_SIZE, IMG_SIZE, 3))\n",
    "x = data_augmentation(inputs)\n",
    "x = base_model(x, training=False)  # 베이스 모델은 추론 모드로 동작 (가중치 동결)\n",
    "x = tf.keras.layers.GlobalAveragePooling2D()(x)\n",
    "x = tf.keras.layers.Dropout(0.2)(x)\n",
    "\n",
    "outputs = tf.keras.layers.Dense(num_classes, activation='softmax')(x)"
   ]
  },
  {
   "cell_type": "code",
   "execution_count": 11,
   "metadata": {},
   "outputs": [],
   "source": [
    "model = tf.keras.Model(inputs, outputs)"
   ]
  },
  {
   "cell_type": "code",
   "execution_count": 12,
   "metadata": {},
   "outputs": [],
   "source": [
    "model.compile(\n",
    "    optimizer=tf.keras.optimizers.Adam(1e-4),\n",
    "    loss=tf.keras.losses.SparseCategoricalCrossentropy(),\n",
    "    metrics=['accuracy']\n",
    ")"
   ]
  },
  {
   "cell_type": "code",
   "execution_count": 13,
   "metadata": {},
   "outputs": [
    {
     "name": "stdout",
     "output_type": "stream",
     "text": [
      "model:\n"
     ]
    },
    {
     "data": {
      "text/html": [
       "<pre style=\"white-space:pre;overflow-x:auto;line-height:normal;font-family:Menlo,'DejaVu Sans Mono',consolas,'Courier New',monospace\"><span style=\"font-weight: bold\">Model: \"functional_1\"</span>\n",
       "</pre>\n"
      ],
      "text/plain": [
       "\u001b[1mModel: \"functional_1\"\u001b[0m\n"
      ]
     },
     "metadata": {},
     "output_type": "display_data"
    },
    {
     "data": {
      "text/html": [
       "<pre style=\"white-space:pre;overflow-x:auto;line-height:normal;font-family:Menlo,'DejaVu Sans Mono',consolas,'Courier New',monospace\">┏━━━━━━━━━━━━━━━━━━━━━━━━━━━━━━━━━┳━━━━━━━━━━━━━━━━━━━━━━━━┳━━━━━━━━━━━━━━━┓\n",
       "┃<span style=\"font-weight: bold\"> Layer (type)                    </span>┃<span style=\"font-weight: bold\"> Output Shape           </span>┃<span style=\"font-weight: bold\">       Param # </span>┃\n",
       "┡━━━━━━━━━━━━━━━━━━━━━━━━━━━━━━━━━╇━━━━━━━━━━━━━━━━━━━━━━━━╇━━━━━━━━━━━━━━━┩\n",
       "│ input_layer_1 (<span style=\"color: #0087ff; text-decoration-color: #0087ff\">InputLayer</span>)      │ (<span style=\"color: #00d7ff; text-decoration-color: #00d7ff\">None</span>, <span style=\"color: #00af00; text-decoration-color: #00af00\">224</span>, <span style=\"color: #00af00; text-decoration-color: #00af00\">224</span>, <span style=\"color: #00af00; text-decoration-color: #00af00\">3</span>)    │             <span style=\"color: #00af00; text-decoration-color: #00af00\">0</span> │\n",
       "├─────────────────────────────────┼────────────────────────┼───────────────┤\n",
       "│ sequential (<span style=\"color: #0087ff; text-decoration-color: #0087ff\">Sequential</span>)         │ (<span style=\"color: #00d7ff; text-decoration-color: #00d7ff\">None</span>, <span style=\"color: #00af00; text-decoration-color: #00af00\">224</span>, <span style=\"color: #00af00; text-decoration-color: #00af00\">224</span>, <span style=\"color: #00af00; text-decoration-color: #00af00\">3</span>)    │             <span style=\"color: #00af00; text-decoration-color: #00af00\">0</span> │\n",
       "├─────────────────────────────────┼────────────────────────┼───────────────┤\n",
       "│ mobilenetv2_1.00_224            │ (<span style=\"color: #00d7ff; text-decoration-color: #00d7ff\">None</span>, <span style=\"color: #00af00; text-decoration-color: #00af00\">7</span>, <span style=\"color: #00af00; text-decoration-color: #00af00\">7</span>, <span style=\"color: #00af00; text-decoration-color: #00af00\">1280</span>)     │     <span style=\"color: #00af00; text-decoration-color: #00af00\">2,257,984</span> │\n",
       "│ (<span style=\"color: #0087ff; text-decoration-color: #0087ff\">Functional</span>)                    │                        │               │\n",
       "├─────────────────────────────────┼────────────────────────┼───────────────┤\n",
       "│ global_average_pooling2d        │ (<span style=\"color: #00d7ff; text-decoration-color: #00d7ff\">None</span>, <span style=\"color: #00af00; text-decoration-color: #00af00\">1280</span>)           │             <span style=\"color: #00af00; text-decoration-color: #00af00\">0</span> │\n",
       "│ (<span style=\"color: #0087ff; text-decoration-color: #0087ff\">GlobalAveragePooling2D</span>)        │                        │               │\n",
       "├─────────────────────────────────┼────────────────────────┼───────────────┤\n",
       "│ dropout (<span style=\"color: #0087ff; text-decoration-color: #0087ff\">Dropout</span>)               │ (<span style=\"color: #00d7ff; text-decoration-color: #00d7ff\">None</span>, <span style=\"color: #00af00; text-decoration-color: #00af00\">1280</span>)           │             <span style=\"color: #00af00; text-decoration-color: #00af00\">0</span> │\n",
       "├─────────────────────────────────┼────────────────────────┼───────────────┤\n",
       "│ dense (<span style=\"color: #0087ff; text-decoration-color: #0087ff\">Dense</span>)                   │ (<span style=\"color: #00d7ff; text-decoration-color: #00d7ff\">None</span>, <span style=\"color: #00af00; text-decoration-color: #00af00\">2</span>)              │         <span style=\"color: #00af00; text-decoration-color: #00af00\">2,562</span> │\n",
       "└─────────────────────────────────┴────────────────────────┴───────────────┘\n",
       "</pre>\n"
      ],
      "text/plain": [
       "┏━━━━━━━━━━━━━━━━━━━━━━━━━━━━━━━━━┳━━━━━━━━━━━━━━━━━━━━━━━━┳━━━━━━━━━━━━━━━┓\n",
       "┃\u001b[1m \u001b[0m\u001b[1mLayer (type)                   \u001b[0m\u001b[1m \u001b[0m┃\u001b[1m \u001b[0m\u001b[1mOutput Shape          \u001b[0m\u001b[1m \u001b[0m┃\u001b[1m \u001b[0m\u001b[1m      Param #\u001b[0m\u001b[1m \u001b[0m┃\n",
       "┡━━━━━━━━━━━━━━━━━━━━━━━━━━━━━━━━━╇━━━━━━━━━━━━━━━━━━━━━━━━╇━━━━━━━━━━━━━━━┩\n",
       "│ input_layer_1 (\u001b[38;5;33mInputLayer\u001b[0m)      │ (\u001b[38;5;45mNone\u001b[0m, \u001b[38;5;34m224\u001b[0m, \u001b[38;5;34m224\u001b[0m, \u001b[38;5;34m3\u001b[0m)    │             \u001b[38;5;34m0\u001b[0m │\n",
       "├─────────────────────────────────┼────────────────────────┼───────────────┤\n",
       "│ sequential (\u001b[38;5;33mSequential\u001b[0m)         │ (\u001b[38;5;45mNone\u001b[0m, \u001b[38;5;34m224\u001b[0m, \u001b[38;5;34m224\u001b[0m, \u001b[38;5;34m3\u001b[0m)    │             \u001b[38;5;34m0\u001b[0m │\n",
       "├─────────────────────────────────┼────────────────────────┼───────────────┤\n",
       "│ mobilenetv2_1.00_224            │ (\u001b[38;5;45mNone\u001b[0m, \u001b[38;5;34m7\u001b[0m, \u001b[38;5;34m7\u001b[0m, \u001b[38;5;34m1280\u001b[0m)     │     \u001b[38;5;34m2,257,984\u001b[0m │\n",
       "│ (\u001b[38;5;33mFunctional\u001b[0m)                    │                        │               │\n",
       "├─────────────────────────────────┼────────────────────────┼───────────────┤\n",
       "│ global_average_pooling2d        │ (\u001b[38;5;45mNone\u001b[0m, \u001b[38;5;34m1280\u001b[0m)           │             \u001b[38;5;34m0\u001b[0m │\n",
       "│ (\u001b[38;5;33mGlobalAveragePooling2D\u001b[0m)        │                        │               │\n",
       "├─────────────────────────────────┼────────────────────────┼───────────────┤\n",
       "│ dropout (\u001b[38;5;33mDropout\u001b[0m)               │ (\u001b[38;5;45mNone\u001b[0m, \u001b[38;5;34m1280\u001b[0m)           │             \u001b[38;5;34m0\u001b[0m │\n",
       "├─────────────────────────────────┼────────────────────────┼───────────────┤\n",
       "│ dense (\u001b[38;5;33mDense\u001b[0m)                   │ (\u001b[38;5;45mNone\u001b[0m, \u001b[38;5;34m2\u001b[0m)              │         \u001b[38;5;34m2,562\u001b[0m │\n",
       "└─────────────────────────────────┴────────────────────────┴───────────────┘\n"
      ]
     },
     "metadata": {},
     "output_type": "display_data"
    },
    {
     "data": {
      "text/html": [
       "<pre style=\"white-space:pre;overflow-x:auto;line-height:normal;font-family:Menlo,'DejaVu Sans Mono',consolas,'Courier New',monospace\"><span style=\"font-weight: bold\"> Total params: </span><span style=\"color: #00af00; text-decoration-color: #00af00\">2,260,546</span> (8.62 MB)\n",
       "</pre>\n"
      ],
      "text/plain": [
       "\u001b[1m Total params: \u001b[0m\u001b[38;5;34m2,260,546\u001b[0m (8.62 MB)\n"
      ]
     },
     "metadata": {},
     "output_type": "display_data"
    },
    {
     "data": {
      "text/html": [
       "<pre style=\"white-space:pre;overflow-x:auto;line-height:normal;font-family:Menlo,'DejaVu Sans Mono',consolas,'Courier New',monospace\"><span style=\"font-weight: bold\"> Trainable params: </span><span style=\"color: #00af00; text-decoration-color: #00af00\">2,562</span> (10.01 KB)\n",
       "</pre>\n"
      ],
      "text/plain": [
       "\u001b[1m Trainable params: \u001b[0m\u001b[38;5;34m2,562\u001b[0m (10.01 KB)\n"
      ]
     },
     "metadata": {},
     "output_type": "display_data"
    },
    {
     "data": {
      "text/html": [
       "<pre style=\"white-space:pre;overflow-x:auto;line-height:normal;font-family:Menlo,'DejaVu Sans Mono',consolas,'Courier New',monospace\"><span style=\"font-weight: bold\"> Non-trainable params: </span><span style=\"color: #00af00; text-decoration-color: #00af00\">2,257,984</span> (8.61 MB)\n",
       "</pre>\n"
      ],
      "text/plain": [
       "\u001b[1m Non-trainable params: \u001b[0m\u001b[38;5;34m2,257,984\u001b[0m (8.61 MB)\n"
      ]
     },
     "metadata": {},
     "output_type": "display_data"
    }
   ],
   "source": [
    "print(\"model:\")\n",
    "model.summary()"
   ]
  },
  {
   "cell_type": "code",
   "execution_count": 14,
   "metadata": {},
   "outputs": [
    {
     "name": "stdout",
     "output_type": "stream",
     "text": [
      "Start to learn\n",
      "Epoch 1/15\n",
      "\u001b[1m4/4\u001b[0m \u001b[32m━━━━━━━━━━━━━━━━━━━━\u001b[0m\u001b[37m\u001b[0m \u001b[1m5s\u001b[0m 805ms/step - accuracy: 0.7054 - loss: 0.6297 - val_accuracy: 0.7857 - val_loss: 0.5619\n",
      "Epoch 2/15\n",
      "\u001b[1m4/4\u001b[0m \u001b[32m━━━━━━━━━━━━━━━━━━━━\u001b[0m\u001b[37m\u001b[0m \u001b[1m2s\u001b[0m 446ms/step - accuracy: 0.7589 - loss: 0.5655 - val_accuracy: 0.7857 - val_loss: 0.5430\n",
      "Epoch 3/15\n",
      "\u001b[1m4/4\u001b[0m \u001b[32m━━━━━━━━━━━━━━━━━━━━\u001b[0m\u001b[37m\u001b[0m \u001b[1m2s\u001b[0m 452ms/step - accuracy: 0.7321 - loss: 0.5354 - val_accuracy: 0.7857 - val_loss: 0.5350\n",
      "Epoch 4/15\n",
      "\u001b[1m4/4\u001b[0m \u001b[32m━━━━━━━━━━━━━━━━━━━━\u001b[0m\u001b[37m\u001b[0m \u001b[1m2s\u001b[0m 446ms/step - accuracy: 0.8125 - loss: 0.5349 - val_accuracy: 0.7143 - val_loss: 0.5345\n",
      "Epoch 5/15\n",
      "\u001b[1m4/4\u001b[0m \u001b[32m━━━━━━━━━━━━━━━━━━━━\u001b[0m\u001b[37m\u001b[0m \u001b[1m2s\u001b[0m 459ms/step - accuracy: 0.8036 - loss: 0.4803 - val_accuracy: 0.7143 - val_loss: 0.5330\n",
      "Epoch 6/15\n",
      "\u001b[1m4/4\u001b[0m \u001b[32m━━━━━━━━━━━━━━━━━━━━\u001b[0m\u001b[37m\u001b[0m \u001b[1m2s\u001b[0m 447ms/step - accuracy: 0.8125 - loss: 0.4894 - val_accuracy: 0.7143 - val_loss: 0.5310\n",
      "Epoch 7/15\n",
      "\u001b[1m4/4\u001b[0m \u001b[32m━━━━━━━━━━━━━━━━━━━━\u001b[0m\u001b[37m\u001b[0m \u001b[1m2s\u001b[0m 526ms/step - accuracy: 0.8304 - loss: 0.4984 - val_accuracy: 0.7143 - val_loss: 0.5235\n",
      "Epoch 8/15\n",
      "\u001b[1m4/4\u001b[0m \u001b[32m━━━━━━━━━━━━━━━━━━━━\u001b[0m\u001b[37m\u001b[0m \u001b[1m2s\u001b[0m 520ms/step - accuracy: 0.8036 - loss: 0.4875 - val_accuracy: 0.7143 - val_loss: 0.5133\n",
      "Epoch 9/15\n",
      "\u001b[1m4/4\u001b[0m \u001b[32m━━━━━━━━━━━━━━━━━━━━\u001b[0m\u001b[37m\u001b[0m \u001b[1m2s\u001b[0m 445ms/step - accuracy: 0.7946 - loss: 0.5756 - val_accuracy: 0.7500 - val_loss: 0.5051\n",
      "Epoch 10/15\n",
      "\u001b[1m4/4\u001b[0m \u001b[32m━━━━━━━━━━━━━━━━━━━━\u001b[0m\u001b[37m\u001b[0m \u001b[1m2s\u001b[0m 439ms/step - accuracy: 0.8393 - loss: 0.4392 - val_accuracy: 0.7500 - val_loss: 0.4967\n",
      "Epoch 11/15\n",
      "\u001b[1m4/4\u001b[0m \u001b[32m━━━━━━━━━━━━━━━━━━━━\u001b[0m\u001b[37m\u001b[0m \u001b[1m2s\u001b[0m 542ms/step - accuracy: 0.8214 - loss: 0.4672 - val_accuracy: 0.7500 - val_loss: 0.4875\n",
      "Epoch 12/15\n",
      "\u001b[1m4/4\u001b[0m \u001b[32m━━━━━━━━━━━━━━━━━━━━\u001b[0m\u001b[37m\u001b[0m \u001b[1m2s\u001b[0m 448ms/step - accuracy: 0.8125 - loss: 0.4589 - val_accuracy: 0.7500 - val_loss: 0.4795\n",
      "Epoch 13/15\n",
      "\u001b[1m4/4\u001b[0m \u001b[32m━━━━━━━━━━━━━━━━━━━━\u001b[0m\u001b[37m\u001b[0m \u001b[1m2s\u001b[0m 450ms/step - accuracy: 0.8482 - loss: 0.4252 - val_accuracy: 0.7857 - val_loss: 0.4718\n",
      "Epoch 14/15\n",
      "\u001b[1m4/4\u001b[0m \u001b[32m━━━━━━━━━━━━━━━━━━━━\u001b[0m\u001b[37m\u001b[0m \u001b[1m2s\u001b[0m 519ms/step - accuracy: 0.8125 - loss: 0.4575 - val_accuracy: 0.7857 - val_loss: 0.4637\n",
      "Epoch 15/15\n",
      "\u001b[1m4/4\u001b[0m \u001b[32m━━━━━━━━━━━━━━━━━━━━\u001b[0m\u001b[37m\u001b[0m \u001b[1m2s\u001b[0m 450ms/step - accuracy: 0.8214 - loss: 0.4465 - val_accuracy: 0.7857 - val_loss: 0.4579\n",
      "Finish\n"
     ]
    }
   ],
   "source": [
    "print(\"Start to learn\")\n",
    "history = model.fit(\n",
    "    train_dataset,\n",
    "    validation_data=validation_dataset,\n",
    "    epochs=EPOCHS\n",
    ")\n",
    "print(\"Finish\")\n"
   ]
  },
  {
   "cell_type": "code",
   "execution_count": 15,
   "metadata": {},
   "outputs": [
    {
     "data": {
      "image/png": "[encoded data removed]",
      "text/plain": [
       "<Figure size 1200x400 with 2 Axes>"
      ]
     },
     "metadata": {},
     "output_type": "display_data"
    }
   ],
   "source": [
    "acc = history.history['accuracy']\n",
    "val_acc = history.history['val_accuracy']\n",
    "loss = history.history['loss']\n",
    "val_loss = history.history['val_loss']\n",
    "\n",
    "plt.figure(figsize=(12, 4))\n",
    "plt.subplot(1, 2, 1)\n",
    "plt.plot(acc, label='Training Accuracy')\n",
    "plt.plot(val_acc, label='Validation Accuracy')\n",
    "plt.legend(loc='lower right')\n",
    "plt.title('Training and Validation Accuracy')\n",
    "\n",
    "plt.subplot(1, 2, 2)\n",
    "plt.plot(loss, label='Training Loss')\n",
    "plt.plot(val_loss, label='Validation Loss')\n",
    "plt.legend(loc='upper right')\n",
    "plt.title('Training and Validation Loss')\n",
    "plt.show()"
   ]
  },
  {
   "cell_type": "code",
   "execution_count": null,
   "metadata": {},
   "outputs": [
    {
     "name": "stdout",
     "output_type": "stream",
     "text": [
      "File: 1000_F_217132285_OhaJpnPCjdp4zhlJaA42Izgt87JeJ2YX_jpg.rf.47e95a8ac68cce2c7f7aae9c12da4d06.jpg -> Class Prediction: 'normal' (67.68%)\n",
      "File: 1000_F_217132285_OhaJpnPCjdp4zhlJaA42Izgt87JeJ2YX_jpg.rf.da64ef7f3d638847b3ed787e5febd2f2.jpg -> Class Prediction: 'normal' (62.95%)\n",
      "File: 1000_F_217132285_OhaJpnPCjdp4zhlJaA42Izgt87JeJ2YX_jpg.rf.f3ce84546e65b19224ab87b5f5a22687.jpg -> Class Prediction: 'normal' (58.15%)\n",
      "File: 101_jpg.rf.12d4987b2c587186ca833c65c11bddd1.jpg -> Class Prediction: 'abnormal' (65.90%)\n",
      "File: 101_jpg.rf.3972ed5b8e79b8002e1b3bf7ede544ab.jpg -> Class Prediction: 'abnormal' (62.71%)\n",
      "File: 101_jpg.rf.c90ac9c5f08a6e523905a0e4d97c39e7.jpg -> Class Prediction: 'abnormal' (62.88%)\n",
      "File: 104_jpg.rf.3237550104c4a1b1c10d690879a1c3d5.jpg -> Class Prediction: 'abnormal' (69.57%)\n",
      "File: 104_jpg.rf.37520d7d603fd036f502f55b233fd8d1.jpg -> Class Prediction: 'abnormal' (67.96%)\n",
      "File: 104_jpg.rf.49f4f467c991ea1407cb1feaecc2d65e.jpg -> Class Prediction: 'abnormal' (67.96%)\n",
      "File: 105_jpg.rf.5ab196257aa6d8f484e3adfd20fcf62f.jpg -> Class Prediction: 'abnormal' (60.52%)\n",
      "File: 105_jpg.rf.5b845d38169925476cef1b6210bcc278.jpg -> Class Prediction: 'abnormal' (62.09%)\n",
      "File: 105_jpg.rf.c96ff192bbc2a1db3655e76b2c8c87d4.jpg -> Class Prediction: 'abnormal' (63.37%)\n",
      "File: 106_jpg.rf.6ea780b6ac52ce36763a3bc293222ab1.jpg -> Class Prediction: 'abnormal' (65.22%)\n",
      "File: 106_jpg.rf.b74acee659dbcbff2e09ad4e7f934844.jpg -> Class Prediction: 'abnormal' (68.54%)\n",
      "File: 106_jpg.rf.bb6a9a7dc114f44a1ec95fd0aa63f5c0.jpg -> Class Prediction: 'abnormal' (64.65%)\n",
      "File: 107_jpg.rf.198fc7396ab1ed222ea21ce80dc02c3f.jpg -> Class Prediction: 'abnormal' (67.74%)\n",
      "File: 107_jpg.rf.ab188f2d0792f1165f18b20dd319c520.jpg -> Class Prediction: 'abnormal' (67.39%)\n",
      "File: 107_jpg.rf.fc7ed03d2730ae34bd095064342b4433.jpg -> Class Prediction: 'abnormal' (69.94%)\n",
      "File: 108_jpg.rf.befa186481b2820fd680880eca6614b5.jpg -> Class Prediction: 'abnormal' (63.98%)\n",
      "File: 108_jpg.rf.d5295fc9317ca080dc1d9f8f74662b96.jpg -> Class Prediction: 'abnormal' (63.37%)\n",
      "File: 108_jpg.rf.f5575d586c15441485a7347c8b9d5b1b.jpg -> Class Prediction: 'abnormal' (64.06%)\n",
      "File: 109_jpg.rf.5af23581355db6767c72fcd612d0e85b.jpg -> Class Prediction: 'abnormal' (66.23%)\n",
      "File: 109_jpg.rf.8d3e0d8a7014359d8a26ac4e429d20a5.jpg -> Class Prediction: 'abnormal' (69.75%)\n",
      "File: 109_jpg.rf.ca8273ef891ed34c8faba4ed61bac927.jpg -> Class Prediction: 'abnormal' (68.68%)\n",
      "File: 10_jpg.rf.3477eabb723caf6e5b2f6ec4d635da7a.jpg -> Class Prediction: 'abnormal' (63.35%)\n",
      "File: 10_jpg.rf.43d032483ea7e789da31204c1f79ab97.jpg -> Class Prediction: 'abnormal' (57.64%)\n",
      "File: 10_jpg.rf.444612f3e355994fff3ec87658c4848a.jpg -> Class Prediction: 'abnormal' (58.02%)\n",
      "File: 10_jpg.rf.965e521a1f1526d3d9ab903e7850b26c.jpg -> Class Prediction: 'abnormal' (57.78%)\n",
      "File: 10_jpg.rf.c308ee3dad58a9d7c5e908884b78f6ba.jpg -> Class Prediction: 'abnormal' (57.55%)\n",
      "File: 10_jpg.rf.c80b81f545e95630a8580ab21224a325.jpg -> Class Prediction: 'abnormal' (62.13%)\n",
      "File: 110_jpg.rf.08431d77a1f2b880243ee99eceb8b554.jpg -> Class Prediction: 'abnormal' (59.80%)\n",
      "File: 110_jpg.rf.d15f02107ba09e0f6c654e812f18f4aa.jpg -> Class Prediction: 'abnormal' (66.46%)\n",
      "File: 110_jpg.rf.ead5af9b0c7dd608da7e663f0bccdafd.jpg -> Class Prediction: 'abnormal' (65.06%)\n",
      "File: 111_jpg.rf.10d761da56099899fff8c0b55c695b7a.jpg -> Class Prediction: 'abnormal' (54.35%)\n",
      "File: 111_jpg.rf.b5fdc8eab0ad53ad3dcf13ea39e02d1c.jpg -> Class Prediction: 'abnormal' (58.76%)\n",
      "File: 111_jpg.rf.dcd7119f969c1932c2d173814ed072a1.jpg -> Class Prediction: 'abnormal' (55.34%)\n",
      "File: 113_jpg.rf.7f53fbe8e0814d7c3ed8fdb9fca7af3d.jpg -> Class Prediction: 'abnormal' (66.63%)\n",
      "File: 113_jpg.rf.e2a50ee5d63cd9f1880e2e0641effa69.jpg -> Class Prediction: 'abnormal' (68.33%)\n",
      "File: 113_jpg.rf.fe815e42bde1337d0c3bd877405c5677.jpg -> Class Prediction: 'abnormal' (65.29%)\n",
      "File: 116_jpg.rf.6094d3021e21b91122c4e494c1438ba9.jpg -> Class Prediction: 'abnormal' (65.73%)\n",
      "File: 116_jpg.rf.8508a3770df6bc2a1861c994b5c7475d.jpg -> Class Prediction: 'abnormal' (56.37%)\n",
      "File: 116_jpg.rf.bc1e7467a4aa3bbf05de7d20f6d1af7b.jpg -> Class Prediction: 'abnormal' (63.15%)\n",
      "File: 117_jpg.rf.4d71a45fecd3bcaf9a41938bf6911b6b.jpg -> Class Prediction: 'abnormal' (67.04%)\n",
      "File: 117_jpg.rf.91fcbdbb0da890f1a9d25ac48ec78b53.jpg -> Class Prediction: 'abnormal' (67.04%)\n",
      "File: 117_jpg.rf.ac6e21a72ea94a6b09e752252cc2a7bb.jpg -> Class Prediction: 'abnormal' (66.21%)\n",
      "File: 118_jpg.rf.399328d7232c3918f4896492663a17dc.jpg -> Class Prediction: 'abnormal' (63.26%)\n",
      "File: 118_jpg.rf.7e767bb23eaec241806cb4f9e98ca89a.jpg -> Class Prediction: 'abnormal' (64.19%)\n",
      "File: 118_jpg.rf.c81da467b92c80a5ecca312822adae8a.jpg -> Class Prediction: 'abnormal' (65.86%)\n",
      "File: 119_jpg.rf.7dc733703329bc70df62f9f44670c8ef.jpg -> Class Prediction: 'abnormal' (70.26%)\n",
      "File: 119_jpg.rf.8a804c52b27f90c2bec5123f291b24de.jpg -> Class Prediction: 'abnormal' (66.47%)\n",
      "File: 119_jpg.rf.fcc3b10cabae46e61197ad15319535c8.jpg -> Class Prediction: 'abnormal' (69.28%)\n",
      "File: 11_jpg.rf.893780bc7a6e8e1a6013b5cc7a6b894b.jpg -> Class Prediction: 'abnormal' (66.99%)\n",
      "File: 11_jpg.rf.a780e547b0ae3eff8ffcda046d9a0744.jpg -> Class Prediction: 'abnormal' (70.01%)\n",
      "File: 11_jpg.rf.e15720b87fe66346e6a672f74e856a57.jpg -> Class Prediction: 'abnormal' (69.24%)\n",
      "File: 121_jpg.rf.8dfce62a3e627e34e6201f10b72db748.jpg -> Class Prediction: 'abnormal' (53.12%)\n",
      "File: 121_jpg.rf.8f47f3266a2291545b9fb9de65aeb484.jpg -> Class Prediction: 'abnormal' (62.95%)\n",
      "File: 121_jpg.rf.fa480321fb986e4d0cf3648e8fe74473.jpg -> Class Prediction: 'abnormal' (67.59%)\n",
      "File: 122_jpg.rf.560a7ce56ee2a24baa931064842fdcd1.jpg -> Class Prediction: 'abnormal' (70.14%)\n",
      "File: 122_jpg.rf.5751ff33c15a417caeb02b5fbcbe87d5.jpg -> Class Prediction: 'abnormal' (70.14%)\n",
      "File: 122_jpg.rf.6812925e6491b6afab89cfd87e475461.jpg -> Class Prediction: 'abnormal' (69.51%)\n",
      "File: 123_jpg.rf.1b0be639b065de07a9d9cc108c2cba57.jpg -> Class Prediction: 'normal' (53.02%)\n",
      "File: 123_jpg.rf.72e63168ce71cb3234ffbc41734d5322.jpg -> Class Prediction: 'abnormal' (64.83%)\n",
      "File: 123_jpg.rf.d1cf2d79367ccac736780e1c6d260fdc.jpg -> Class Prediction: 'normal' (53.56%)\n",
      "File: 124_jpg.rf.37219ac0361e46dcf791d59b5cd62736.jpg -> Class Prediction: 'abnormal' (64.37%)\n",
      "File: 124_jpg.rf.62f50a087ad40ea6138a3cab432f7bf8.jpg -> Class Prediction: 'abnormal' (66.61%)\n",
      "File: 124_jpg.rf.da629f47a4a627ab9e9b207cb23d494c.jpg -> Class Prediction: 'abnormal' (69.90%)\n",
      "File: 125_jpg.rf.64b2eb75ad45b3d75dbfb9712e9fdcd2.jpg -> Class Prediction: 'abnormal' (70.15%)\n",
      "File: 125_jpg.rf.c64fa701c5ec87a14f07193af562d7d2.jpg -> Class Prediction: 'abnormal' (69.24%)\n",
      "File: 125_jpg.rf.d74345e432e5e0876871e28a94e1c5a3.jpg -> Class Prediction: 'abnormal' (69.46%)\n",
      "File: 127_jpg.rf.451c600ec850be4e03152de53c6ba275.jpg -> Class Prediction: 'abnormal' (69.65%)\n",
      "File: 127_jpg.rf.5c386edb49c81ca95dad06c726990311.jpg -> Class Prediction: 'abnormal' (61.60%)\n",
      "File: 127_jpg.rf.d794dc0d77956bed420e257eda3828de.jpg -> Class Prediction: 'abnormal' (61.58%)\n",
      "File: 128_jpg.rf.1228c1e7a3efcec16c6774ead7a475b5.jpg -> Class Prediction: 'abnormal' (63.35%)\n",
      "File: 128_jpg.rf.2c49ec244504eeaa2e29d98f400de50c.jpg -> Class Prediction: 'abnormal' (57.86%)\n",
      "File: 128_jpg.rf.d8ea6dd9ff8d06f516a93f6dc537d3ff.jpg -> Class Prediction: 'normal' (70.01%)\n",
      "File: 132_jpg.rf.98c1b110bf503b288d53c12e05f45bde.jpg -> Class Prediction: 'abnormal' (64.17%)\n",
      "File: 132_jpg.rf.d6f8c495f3def2dbdb5ca121f7670352.jpg -> Class Prediction: 'abnormal' (69.73%)\n",
      "File: 132_jpg.rf.ef41bb88842e659e73732d97f0c15b7e.jpg -> Class Prediction: 'abnormal' (69.38%)\n",
      "File: 133_jpg.rf.33f49ea53a399a480e725efc9511d98c.jpg -> Class Prediction: 'abnormal' (57.73%)\n",
      "File: 133_jpg.rf.b5265ffa6e89cd5edd43651ac3ef0764.jpg -> Class Prediction: 'abnormal' (63.40%)\n",
      "File: 133_jpg.rf.c0c035ff5a81a9781065b2bb851707b7.jpg -> Class Prediction: 'abnormal' (61.75%)\n",
      "File: 134_jpg.rf.46f23ff9b547a40716352781550af6ca.jpg -> Class Prediction: 'abnormal' (50.84%)\n",
      "File: 134_jpg.rf.842c9b1aafe057226fa6ed6784ea1413.jpg -> Class Prediction: 'abnormal' (62.24%)\n",
      "File: 134_jpg.rf.f3de4ba559fa01e7a2cb221fa80ca61f.jpg -> Class Prediction: 'normal' (50.51%)\n",
      "File: 14_jpg.rf.407c244586945ce3a9a7d467b76e76a2.jpg -> Class Prediction: 'abnormal' (69.37%)\n",
      "File: 14_jpg.rf.447049999ef5f265c3f9c49721b0e6b7.jpg -> Class Prediction: 'abnormal' (64.77%)\n",
      "File: 14_jpg.rf.92cc676053afb15afff7db6cd28d1204.jpg -> Class Prediction: 'abnormal' (57.40%)\n",
      "File: 15_jpg.rf.264046a87b4d25a8ae6b51b6ef7ceef6.jpg -> Class Prediction: 'abnormal' (67.27%)\n",
      "File: 15_jpg.rf.46239d504d4a97a87f82dbee766c322f.jpg -> Class Prediction: 'abnormal' (65.72%)\n",
      "File: 15_jpg.rf.a5cc150a1f478ca9c7145a73e9ed4dfd.jpg -> Class Prediction: 'abnormal' (65.81%)\n",
      "File: 17_jpeg.rf.15d236015dfd55c8a12036df1de0a068.jpg -> Class Prediction: 'abnormal' (71.52%)\n",
      "File: 17_jpeg.rf.5b28c73da64a8af705c1e3d20309f6f4.jpg -> Class Prediction: 'abnormal' (71.55%)\n",
      "File: 17_jpeg.rf.b3b391a60b88c4481f5bc99ab3783c41.jpg -> Class Prediction: 'abnormal' (71.72%)\n",
      "File: 18_jpg.rf.973bacff426a74e8498b023eded5bc34.jpg -> Class Prediction: 'abnormal' (61.58%)\n",
      "File: 18_jpg.rf.a71d5fc8e4006cd272787cbe67db31f7.jpg -> Class Prediction: 'abnormal' (66.50%)\n",
      "File: 18_jpg.rf.ca677c6d6f6df118183965690b180c10.jpg -> Class Prediction: 'abnormal' (66.02%)\n",
      "File: 19_jpg.rf.32601a89ddfadca4faf58a552dd06b43.jpg -> Class Prediction: 'abnormal' (64.39%)\n",
      "File: 19_jpg.rf.8d8db3d50eeb9ada84cf33a41cde633a.jpg -> Class Prediction: 'abnormal' (64.76%)\n",
      "File: 19_jpg.rf.f0e088bb558264033fe0aa4c33df43d5.jpg -> Class Prediction: 'abnormal' (67.74%)\n",
      "File: 1_jpg.rf.3e1333f40f6ca657255f65c80c5b8502.jpg -> Class Prediction: 'abnormal' (63.49%)\n",
      "File: 1_jpg.rf.96e348ec7d4dfefcb8d7c1f4dfbb74d1.jpg -> Class Prediction: 'abnormal' (68.01%)\n",
      "File: 1_jpg.rf.cb081dddbc7b7754b7caac4d03053736.jpg -> Class Prediction: 'abnormal' (66.01%)\n",
      "File: 20_jpg.rf.8ebe65b4cc0f397250654814e8c65f09.jpg -> Class Prediction: 'abnormal' (63.63%)\n",
      "File: 20_jpg.rf.aeba577c0f7b8b3d8744024e0bf2cd88.jpg -> Class Prediction: 'abnormal' (65.53%)\n",
      "File: 20_jpg.rf.b6d1957679f2746fbbedde42c3644c11.jpg -> Class Prediction: 'abnormal' (63.62%)\n",
      "File: 21_jpg.rf.269375c823cbd4c818dad6c3fe6f42e7.jpg -> Class Prediction: 'normal' (64.00%)\n",
      "File: 21_jpg.rf.b42eda398749171ea130a740c6a32ea8.jpg -> Class Prediction: 'normal' (58.18%)\n",
      "File: 21_jpg.rf.e857b3bb89c96c2b78c96103f97502a3.jpg -> Class Prediction: 'normal' (53.41%)\n",
      "File: 22_jpg.rf.418b6346f85b96939621cf0337750b96.jpg -> Class Prediction: 'abnormal' (64.12%)\n",
      "File: 22_jpg.rf.55c8df759e36b349c25a1181d33cc8d6.jpg -> Class Prediction: 'abnormal' (62.14%)\n",
      "File: 22_jpg.rf.59512d330ad96a6f33f73de5d587fa53.jpg -> Class Prediction: 'abnormal' (65.36%)\n",
      "File: 23_jpg.rf.385001ff8821eb1b2f47254642e31f1a.jpg -> Class Prediction: 'abnormal' (70.33%)\n",
      "File: 23_jpg.rf.454d28d25512b5769c495b7135233103.jpg -> Class Prediction: 'abnormal' (65.59%)\n",
      "File: 23_jpg.rf.97684f0ee507010853e1c9b523f72f58.jpg -> Class Prediction: 'abnormal' (68.04%)\n",
      "File: 24_jpeg.rf.435734a4fdf5e91d98dd7f6e2a54b037.jpg -> Class Prediction: 'abnormal' (71.40%)\n",
      "File: 24_jpeg.rf.6ecef392bb4c2c3e46b6e53fb4b571bd.jpg -> Class Prediction: 'abnormal' (69.26%)\n",
      "File: 24_jpeg.rf.ee85b20e9c6873e153ab9ed1df863f46.jpg -> Class Prediction: 'abnormal' (68.51%)\n",
      "File: 25_jpg.rf.37b276348febbff6f37e30f9ecd77bce.jpg -> Class Prediction: 'abnormal' (70.11%)\n",
      "File: 25_jpg.rf.4e1cd9b3124db66af5cff13af783847a.jpg -> Class Prediction: 'abnormal' (70.68%)\n",
      "File: 25_jpg.rf.de18b85f72d31ae0c9dc45aef75faec6.jpg -> Class Prediction: 'abnormal' (69.72%)\n",
      "File: 276636691_jpg.rf.384561d6ea526bc702cb5f6691570cb7.jpg -> Class Prediction: 'abnormal' (60.98%)\n",
      "File: 276636691_jpg.rf.5d109216f6239f00e820dfb9581ff252.jpg -> Class Prediction: 'abnormal' (59.58%)\n",
      "File: 276636691_jpg.rf.d94f099a33d97722bf89729e1819d605.jpg -> Class Prediction: 'abnormal' (59.26%)\n",
      "File: 27_jpg.rf.784de5a965334e79deb28b2127ed1bcd.jpg -> Class Prediction: 'abnormal' (58.22%)\n",
      "File: 27_jpg.rf.9a31b2aa68c85d33280d0a25ac5c6fe2.jpg -> Class Prediction: 'abnormal' (68.72%)\n",
      "File: 27_jpg.rf.abbdfb695848cdd8c36d508b8979b0b4.jpg -> Class Prediction: 'abnormal' (66.03%)\n",
      "File: 28_jpg.rf.12e06cc5b7c08be57ba20e5bc66d14c7.jpg -> Class Prediction: 'abnormal' (62.62%)\n",
      "File: 28_jpg.rf.af1c16c1edf2214d6a02fd615d4bda2c.jpg -> Class Prediction: 'abnormal' (60.72%)\n",
      "File: 28_jpg.rf.bc3762a958ae12004c86779404e74069.jpg -> Class Prediction: 'abnormal' (65.32%)\n",
      "File: 30_jpg.rf.014e8acaa8af86eed0197381d7135da3.jpg -> Class Prediction: 'abnormal' (60.52%)\n",
      "File: 30_jpg.rf.68b5ababe0a16b86e24458059165809b.jpg -> Class Prediction: 'abnormal' (60.12%)\n",
      "File: 30_jpg.rf.d5e257efd7c975e0340009534f15aff3.jpg -> Class Prediction: 'abnormal' (64.28%)\n",
      "File: 31_jpg.rf.59883bdadfa372dee86afc41f101b0f3.jpg -> Class Prediction: 'abnormal' (53.25%)\n",
      "File: 31_jpg.rf.876c0d6e57758f63449370d0d7bedde5.jpg -> Class Prediction: 'abnormal' (58.14%)\n",
      "File: 31_jpg.rf.f5afe4bc819f8982708dc117613c4bc9.jpg -> Class Prediction: 'normal' (52.32%)\n",
      "File: 35_jpg.rf.6b8b81f65ad9714de0ae9e520c3ea281.jpg -> Class Prediction: 'abnormal' (66.85%)\n",
      "File: 35_jpg.rf.b1bba7912780e41378e7090490000328.jpg -> Class Prediction: 'abnormal' (62.42%)\n",
      "File: 35_jpg.rf.cd584e91daae4ee8a7ea44e1e8fc6167.jpg -> Class Prediction: 'abnormal' (65.29%)\n",
      "File: 38_jpg.rf.cd11e300c6dfadccf53f34602e2bd760.jpg -> Class Prediction: 'abnormal' (64.05%)\n",
      "File: 38_jpg.rf.e210fc49d70e3c476d6c8d45916a7388.jpg -> Class Prediction: 'abnormal' (55.77%)\n",
      "File: 38_jpg.rf.ea6778b5026678931680b3f5436b1880.jpg -> Class Prediction: 'abnormal' (61.53%)\n",
      "File: 39_jpg.rf.57db3219bbfb5536fc4d66b693e62c39.jpg -> Class Prediction: 'abnormal' (67.02%)\n",
      "File: 39_jpg.rf.7d008277a916395de05bdde9625d8760.jpg -> Class Prediction: 'abnormal' (69.06%)\n",
      "File: 39_jpg.rf.97dbdd665c800e7c0dd1453d2186792b.jpg -> Class Prediction: 'abnormal' (67.48%)\n",
      "File: 40_jpg.rf.2d4980f635adc9688ed80d1ff8a91f45.jpg -> Class Prediction: 'abnormal' (68.01%)\n",
      "File: 40_jpg.rf.87055a2c467d5847f3ab520462529a0e.jpg -> Class Prediction: 'abnormal' (61.76%)\n",
      "File: 40_jpg.rf.b3f79ce33488b4f1187c9b132ff74155.jpg -> Class Prediction: 'abnormal' (65.03%)\n",
      "File: 41_jpg.rf.2647ccc6dfaa62e7e91039bc0d5f34de.jpg -> Class Prediction: 'abnormal' (67.91%)\n",
      "File: 41_jpg.rf.a56a76862ccc194715df9a9a7c964f32.jpg -> Class Prediction: 'abnormal' (66.48%)\n",
      "File: 41_jpg.rf.c812305d24c3bb9f796966a1494f15ca.jpg -> Class Prediction: 'abnormal' (67.56%)\n",
      "File: 42991_2_1201634_jpg.rf.33e6d229f804f3539a253790c36ae998.jpg -> Class Prediction: 'abnormal' (71.05%)\n",
      "File: 42991_2_1201634_jpg.rf.96ed70cf519c23772356e4ec66772531.jpg -> Class Prediction: 'abnormal' (69.86%)\n",
      "File: 42991_2_1201634_jpg.rf.bdc8e2334fd3ee2c6e1a5491f8147d5e.jpg -> Class Prediction: 'abnormal' (71.07%)\n",
      "File: 42_jpg.rf.28d98546c81e81d7991a82a73387ff7e.jpg -> Class Prediction: 'abnormal' (68.71%)\n",
      "File: 42_jpg.rf.eebbd9cbbbdddc55b4a189cc0d3a9430.jpg -> Class Prediction: 'abnormal' (68.47%)\n",
      "File: 42_jpg.rf.fc7a4be56fcb675c4adfc1cc7be770c2.jpg -> Class Prediction: 'abnormal' (69.04%)\n",
      "File: 43_jpg.rf.19a8c3f679ea422e6b81be4396940074.jpg -> Class Prediction: 'abnormal' (71.18%)\n",
      "File: 43_jpg.rf.1f11bb3039091233ce75017b87a6f5b3.jpg -> Class Prediction: 'abnormal' (69.13%)\n",
      "File: 43_jpg.rf.ccbc1b742f6d2bc25996ca3e07fdf3e6.jpg -> Class Prediction: 'abnormal' (71.02%)\n",
      "File: 45_jpg.rf.2bf985f7237e3266bd52355b7ea52f0c.jpg -> Class Prediction: 'abnormal' (69.20%)\n",
      "File: 45_jpg.rf.71c38c1000244f608a54b5329c0b5702.jpg -> Class Prediction: 'abnormal' (71.78%)\n",
      "File: 45_jpg.rf.b301249423f2627117b417c4bc6e32cb.jpg -> Class Prediction: 'abnormal' (70.05%)\n",
      "File: 47_jpg.rf.34e363191cbb779954cdec36b2c24d81.jpg -> Class Prediction: 'abnormal' (61.04%)\n",
      "File: 47_jpg.rf.38ada4020474d6ecc57ac1e99994761f.jpg -> Class Prediction: 'abnormal' (58.27%)\n",
      "File: 47_jpg.rf.cfe2bd112ad04964609a8bac43d90e74.jpg -> Class Prediction: 'abnormal' (61.13%)\n",
      "File: 48_jpg.rf.07dc46b410d0d38080dd65a6d042dc1a.jpg -> Class Prediction: 'abnormal' (70.00%)\n",
      "File: 48_jpg.rf.597b5d55e0d844f89158f6646d1ce15c.jpg -> Class Prediction: 'abnormal' (69.00%)\n",
      "File: 48_jpg.rf.9e553a41ee8165e4f8229540989d1dce.jpg -> Class Prediction: 'abnormal' (65.76%)\n",
      "File: 49_jpg.rf.b987dda8ccd9581c5a05f105a6cdf1de.jpg -> Class Prediction: 'abnormal' (60.11%)\n",
      "File: 49_jpg.rf.f32f7e283666117119dbe5a12130b081.jpg -> Class Prediction: 'abnormal' (56.34%)\n",
      "File: 49_jpg.rf.fae3a9cee9be2aeca24479707efa75fa.jpg -> Class Prediction: 'normal' (55.33%)\n",
      "File: 51_jpg.rf.49228830d88520909bb9abbd17653c81.jpg -> Class Prediction: 'abnormal' (69.75%)\n",
      "File: 51_jpg.rf.6834104ab7adfb77343f04abec9dec73.jpg -> Class Prediction: 'abnormal' (68.71%)\n",
      "File: 51_jpg.rf.7e3301e87ae1e797212095893b1117cc.jpg -> Class Prediction: 'abnormal' (67.37%)\n",
      "File: 52_jpg.rf.4a6ae01c3b0c950a44cf37452ab57f47.jpg -> Class Prediction: 'normal' (70.76%)\n",
      "File: 52_jpg.rf.6ec3bfe3f3fa677ca5154004cd0c8746.jpg -> Class Prediction: 'normal' (66.87%)\n",
      "File: 52_jpg.rf.b7082aea557026e299d94125d2973c2b.jpg -> Class Prediction: 'normal' (68.75%)\n",
      "File: 54_jpg.rf.0cf3bb170bf5b90a6ee52b1154dfcf5c.jpg -> Class Prediction: 'abnormal' (69.31%)\n",
      "File: 54_jpg.rf.1f8cfd98094a142331b0dd0c82dff3d3.jpg -> Class Prediction: 'abnormal' (68.46%)\n",
      "File: 54_jpg.rf.8248406a84a4f8048ec7f7f8e4e597a5.jpg -> Class Prediction: 'abnormal' (68.83%)\n",
      "File: 58_jpg.rf.0afc63bbc1a3c74512dc5ab3762dc8af.jpg -> Class Prediction: 'abnormal' (65.49%)\n",
      "File: 58_jpg.rf.a6c329d75490d26488e2ba0f8df29cb3.jpg -> Class Prediction: 'abnormal' (66.70%)\n",
      "File: 58_jpg.rf.edf0f01d808593f1d8cc872150de59a5.jpg -> Class Prediction: 'abnormal' (67.81%)\n",
      "File: 59_jpg.rf.2f88e60cac85fee9c442ee7c1f33ff53.jpg -> Class Prediction: 'abnormal' (63.91%)\n",
      "File: 59_jpg.rf.ccbcb630dc296731985a12502456eb3a.jpg -> Class Prediction: 'abnormal' (64.28%)\n",
      "File: 59_jpg.rf.e367b3904a249070c7059dfb32e3a81c.jpg -> Class Prediction: 'abnormal' (66.70%)\n",
      "File: 61_jpg.rf.03e2897bbc8d9234baa7cf834c80afbd.jpg -> Class Prediction: 'abnormal' (64.20%)\n",
      "File: 61_jpg.rf.30857037673bfee0049afbf3e6b085cb.jpg -> Class Prediction: 'abnormal' (56.09%)\n",
      "File: 61_jpg.rf.35e19eff9dfd4d99813dde1aefaaa1b8.jpg -> Class Prediction: 'abnormal' (64.36%)\n",
      "File: 63_jpg.rf.8a6bd770697ce9d0b7ae3e542294fd94.jpg -> Class Prediction: 'abnormal' (62.88%)\n",
      "File: 63_jpg.rf.b4bb0745192947233244c3675bb71457.jpg -> Class Prediction: 'abnormal' (66.99%)\n",
      "File: 63_jpg.rf.d357d166fb391e69d66201ee1bb0140d.jpg -> Class Prediction: 'abnormal' (64.83%)\n",
      "File: 64_jpg.rf.33d3dca8818e69823380e3e64a575d40.jpg -> Class Prediction: 'abnormal' (56.53%)\n",
      "File: 64_jpg.rf.52c7323bb04300a49a4f264b668c131b.jpg -> Class Prediction: 'abnormal' (66.20%)\n",
      "File: 64_jpg.rf.fe4242a155ba1ad21ce592c95623904d.jpg -> Class Prediction: 'abnormal' (64.32%)\n",
      "File: 66_jpg.rf.169854974d280b5b1b1ac6656ffc2456.jpg -> Class Prediction: 'abnormal' (71.11%)\n"
     ]
    }
   ],
   "source": [
    "import glob\n",
    "\n",
    "image_paths = glob.glob(os.path.join('./dataset/step3/*.jpg'))\n",
    "\n",
    "for test_image_path in image_paths:\n",
    "    img = tf.keras.utils.load_img(\n",
    "        test_image_path, target_size=(IMG_SIZE, IMG_SIZE)\n",
    "    )\n",
    "    img_array = tf.keras.utils.img_to_array(img)\n",
    "    img_array = tf.expand_dims(img_array, 0)\n",
    "\n",
    "    predictions = model.predict(img_array, verbose=0)\n",
    "    score = tf.nn.softmax(predictions[0])\n",
    "\n",
    "    file_name = os.path.basename(test_image_path)\n",
    "    predicted_class = class_names[np.argmax(score)]\n",
    "    confidence = 100 * np.max(score)\n",
    "\n",
    "    print(f\"File: {file_name} -> Class Prediction: '{predicted_class}' ({confidence:.2f}%)\")\n",
    "    \n",
    "print('Finish to test')\n"
   ]
  }
 ],
 "metadata": {
  "kernelspec": {
   "display_name": "Python 3",
   "language": "python",
   "name": "python3"
  },
  "language_info": {
   "codemirror_mode": {
    "name": "ipython",
    "version": 3
   },
   "file_extension": ".py",
   "mimetype": "text/x-python",
   "name": "python",
   "nbconvert_exporter": "python",
   "pygments_lexer": "ipython3",
   "version": "3.10.11"
  }
 },
 "nbformat": 4,
 "nbformat_minor": 2
}
